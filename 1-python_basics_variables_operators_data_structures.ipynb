{
 "cells": [
  {
   "cell_type": "markdown",
   "id": "96661c2d",
   "metadata": {},
   "source": [
    "<div style=\"background-color: #9D2235; color: white; padding: 10px; \">\n",
    "    \n",
    " ## Python Basics : Variables, Operators, Data Structures List, Tuple, and Dictionary\n",
    "    \n",
    "</div>"
   ]
  },
  {
   "cell_type": "markdown",
   "id": "192c1d65",
   "metadata": {},
   "source": [
    "<div style=\"background-color: #9DC9D5; padding: 10px;\">\n",
    "    \n",
    "#### Zen of python\n",
    "    \n",
    "</div>"
   ]
  },
  {
   "cell_type": "code",
   "execution_count": 1,
   "id": "c530d4cd",
   "metadata": {},
   "outputs": [
    {
     "name": "stdout",
     "output_type": "stream",
     "text": [
      "The Zen of Python, by Tim Peters\n",
      "\n",
      "Beautiful is better than ugly.\n",
      "Explicit is better than implicit.\n",
      "Simple is better than complex.\n",
      "Complex is better than complicated.\n",
      "Flat is better than nested.\n",
      "Sparse is better than dense.\n",
      "Readability counts.\n",
      "Special cases aren't special enough to break the rules.\n",
      "Although practicality beats purity.\n",
      "Errors should never pass silently.\n",
      "Unless explicitly silenced.\n",
      "In the face of ambiguity, refuse the temptation to guess.\n",
      "There should be one-- and preferably only one --obvious way to do it.\n",
      "Although that way may not be obvious at first unless you're Dutch.\n",
      "Now is better than never.\n",
      "Although never is often better than *right* now.\n",
      "If the implementation is hard to explain, it's a bad idea.\n",
      "If the implementation is easy to explain, it may be a good idea.\n",
      "Namespaces are one honking great idea -- let's do more of those!\n"
     ]
    }
   ],
   "source": [
    "import this"
   ]
  },
  {
   "cell_type": "markdown",
   "id": "f022adc8",
   "metadata": {},
   "source": [
    "<div style=\"background-color: #9DC9D5; padding: 10px;\">\n",
    "    \n",
    "#### This function displays the documentation for Python keywords, modules, or functions (use: help('query'))\n",
    "    \n",
    "</div>"
   ]
  },
  {
   "cell_type": "code",
   "execution_count": 2,
   "id": "ceefecfb",
   "metadata": {
    "scrolled": true
   },
   "outputs": [
    {
     "name": "stdout",
     "output_type": "stream",
     "text": [
      "\n",
      "Welcome to Python 3.11's help utility!\n",
      "\n",
      "If this is your first time using Python, you should definitely check out\n",
      "the tutorial on the internet at https://docs.python.org/3.11/tutorial/.\n",
      "\n",
      "Enter the name of any module, keyword, or topic to get help on writing\n",
      "Python programs and using Python modules.  To quit this help utility and\n",
      "return to the interpreter, just type \"quit\".\n",
      "\n",
      "To get a list of available modules, keywords, symbols, or topics, type\n",
      "\"modules\", \"keywords\", \"symbols\", or \"topics\".  Each module also comes\n",
      "with a one-line summary of what it does; to list the modules whose name\n",
      "or summary contain a given string such as \"spam\", type \"modules spam\".\n",
      "\n",
      "help> keywords\n",
      "\n",
      "Here is a list of the Python keywords.  Enter any keyword to get more help.\n",
      "\n",
      "False               class               from                or\n",
      "None                continue            global              pass\n",
      "True                def                 if                  raise\n",
      "and                 del                 import              return\n",
      "as                  elif                in                  try\n",
      "assert              else                is                  while\n",
      "async               except              lambda              with\n",
      "await               finally             nonlocal            yield\n",
      "break               for                 not                 \n",
      "\n",
      "help> quit\n",
      "\n",
      "You are now leaving help and returning to the Python interpreter.\n",
      "If you want to ask for help on a particular object directly from the\n",
      "interpreter, you can type \"help(object)\".  Executing \"help('string')\"\n",
      "has the same effect as typing a particular string at the help> prompt.\n"
     ]
    }
   ],
   "source": [
    "help()"
   ]
  },
  {
   "cell_type": "markdown",
   "id": "57363782",
   "metadata": {},
   "source": [
    "<div style=\"background-color: #9DC9D5; padding: 10px;\">\n",
    "    \n",
    "####  Prints current Python version and build information\n",
    "    \n",
    "</div>"
   ]
  },
  {
   "cell_type": "code",
   "execution_count": 3,
   "id": "2d14fb08",
   "metadata": {},
   "outputs": [
    {
     "name": "stdout",
     "output_type": "stream",
     "text": [
      "3.11.5 | packaged by Anaconda, Inc. | (main, Sep 11 2023, 13:26:23) [MSC v.1916 64 bit (AMD64)]\n"
     ]
    }
   ],
   "source": [
    "import sys\n",
    "print(sys.version)"
   ]
  },
  {
   "cell_type": "markdown",
   "id": "92b95f26",
   "metadata": {},
   "source": [
    "<div style=\"background-color: #9DC9D5; padding: 10px;\">\n",
    "\n",
    "#### Sequential Execution\n",
    "\n",
    "<pre>\n",
    "x = 20\n",
    "y = 10\n",
    "x = x + 2\n",
    "x = x - y\n",
    "print(x)\n",
    "</pre>\n",
    "\n",
    "</div>"
   ]
  },
  {
   "cell_type": "code",
   "execution_count": 4,
   "id": "8f492f9e",
   "metadata": {},
   "outputs": [
    {
     "name": "stdout",
     "output_type": "stream",
     "text": [
      "12\n"
     ]
    }
   ],
   "source": [
    "x = 20\n",
    "y = 10\n",
    "x = x + 2\n",
    "x = x - y\n",
    "print(x)"
   ]
  },
  {
   "cell_type": "markdown",
   "id": "6bc7510c",
   "metadata": {},
   "source": [
    "<div style=\"background-color: #9DC9D5; padding: 10px;\">\n",
    "    \n",
    "#### Conditional Execution\n",
    "    \n",
    "</div>"
   ]
  },
  {
   "cell_type": "code",
   "execution_count": 5,
   "id": "a36e0023",
   "metadata": {},
   "outputs": [
    {
     "name": "stdout",
     "output_type": "stream",
     "text": [
      "Smaller\n",
      "Finish\n"
     ]
    }
   ],
   "source": [
    "x = 5\n",
    "if x < 10:\n",
    "    print(\"Smaller\")\n",
    "if x > 20:\n",
    "    print(\"Larger\")\n",
    "print(\"Finish\")\n"
   ]
  },
  {
   "cell_type": "markdown",
   "id": "332cd6b1",
   "metadata": {},
   "source": [
    "<div style=\"background-color: #9DC9D5; padding: 10px;\">\n",
    "    \n",
    "#### Repeated Execution\n",
    "    \n",
    "</div>"
   ]
  },
  {
   "cell_type": "code",
   "execution_count": 6,
   "id": "f8f5c978",
   "metadata": {},
   "outputs": [
    {
     "name": "stdout",
     "output_type": "stream",
     "text": [
      "5\n",
      "4\n",
      "3\n",
      "2\n",
      "1\n",
      "Blast Off\n"
     ]
    }
   ],
   "source": [
    "n = 5\n",
    "while n > 0:\n",
    "    print(n)\n",
    "    n = n - 1\n",
    "print(\"Blast Off\")"
   ]
  },
  {
   "cell_type": "markdown",
   "id": "a8624c54",
   "metadata": {},
   "source": [
    "<div style=\"background-color: #9DC9D5; padding: 10px;\">\n",
    "    \n",
    "#### Combination of Sequential, Conditional, and Repeated Execution\n",
    "     \n",
    "</div>"
   ]
  },
  {
   "cell_type": "code",
   "execution_count": 8,
   "id": "6c0bd0f1",
   "metadata": {},
   "outputs": [
    {
     "name": "stdout",
     "output_type": "stream",
     "text": [
      "Enter file:Files/PythonBasicTest.txt\n",
      "I 3\n"
     ]
    }
   ],
   "source": [
    "# Get the name of the file and open it\n",
    "name = input('Enter file:')\n",
    "handle = open(name, 'r')\n",
    "\n",
    "# Count word frequency\n",
    "counts = dict()\n",
    "for line in handle:\n",
    "    words = line.split()\n",
    "    for word in words:\n",
    "        counts[word] = counts.get(word,0) + 1\n",
    "\n",
    "# Find the most common word\n",
    "bigcount = None\n",
    "bigword = None\n",
    "for word,count in counts.items():\n",
    "    if bigcount is None or count > bigcount:\n",
    "        bigword = word\n",
    "        bigcount = count\n",
    "\n",
    "# All done\n",
    "print(bigword, bigcount)"
   ]
  },
  {
   "cell_type": "markdown",
   "id": "33d721d6",
   "metadata": {},
   "source": [
    "<div style=\"background-color: #9DC9D5; padding: 10px;\">\n",
    "    \n",
    "#### Operators\n",
    "<pre>\n",
    "+ for addition\n",
    " - for subtraction \n",
    "* for multiplication\n",
    "/ for division\n",
    "** for power\n",
    "% for remainder\n",
    "</pre>\n",
    "</div>"
   ]
  },
  {
   "cell_type": "code",
   "execution_count": 9,
   "id": "82e830d9",
   "metadata": {},
   "outputs": [
    {
     "name": "stdout",
     "output_type": "stream",
     "text": [
      "Sum of x+2 is 7\n",
      "Multiplication of 330* 12 is 3960\n",
      "3 power of 2 is 9\n",
      "Reminder of 200 by 11 is 2\n"
     ]
    }
   ],
   "source": [
    "x = 5\n",
    "x = x + 2\n",
    "print (\"Sum of x+2 is\",x)\n",
    "\n",
    "y = 330 * 12\n",
    "print (\"Multiplication of 330* 12 is\",y)\n",
    "\n",
    "z = 3 ** 2\n",
    "print (\"3 power of 2 is\",z)\n",
    "\n",
    "k = 200 % 11\n",
    "print (\"Reminder of 200 by 11 is\",k)"
   ]
  },
  {
   "cell_type": "markdown",
   "id": "ba86a29f",
   "metadata": {},
   "source": [
    "<div style=\"background-color: #9DC9D5; padding: 10px;\">\n",
    "    \n",
    "#### Operator Precedence Rules\n",
    "<pre>\n",
    "Parentheses are always respected\n",
    "Exponentiation (raise to a power)\n",
    "Multiplication, Division, and Remainder  (same Precedence)\n",
    "Addition and Subtraction (same Precedence)\n",
    "Left to right\n",
    "</pre>\n",
    "</div>"
   ]
  },
  {
   "cell_type": "code",
   "execution_count": 10,
   "id": "31d08c64",
   "metadata": {},
   "outputs": [
    {
     "name": "stdout",
     "output_type": "stream",
     "text": [
      "11.0\n"
     ]
    }
   ],
   "source": [
    "x = 1 + 2 ** 3 / 4 * 5\n",
    "#x = 1 + 8 / 4 * 5\n",
    "#x = 1 + 2 * 5\n",
    "#x = 1 + 10\n",
    "#x = 11\n",
    "print(x)"
   ]
  },
  {
   "cell_type": "markdown",
   "id": "9fc5a3fa",
   "metadata": {},
   "source": [
    "<div style=\"background-color: #9DC9D5; padding: 10px;\">  \n",
    "Equation $x = \\frac{(1 + 2^2 \\times 10 + 4)}{2}$\n",
    "</div>"
   ]
  },
  {
   "cell_type": "code",
   "execution_count": 11,
   "id": "d088c779",
   "metadata": {},
   "outputs": [
    {
     "name": "stdout",
     "output_type": "stream",
     "text": [
      "22.5\n"
     ]
    }
   ],
   "source": [
    "x = (1 + 2**2 * 10 + 4) / 2\n",
    "print(x)"
   ]
  },
  {
   "cell_type": "markdown",
   "id": "872a0b68",
   "metadata": {},
   "source": [
    "<div style=\"background-color: #9DC9D5; padding: 10px;\">\n",
    "    \n",
    "#### Type - All variables, literals, and constants have a “type” - str, int, float, complex, bool, None, list, tuple, dict, set\n",
    "     \n",
    "</div>"
   ]
  },
  {
   "cell_type": "code",
   "execution_count": 12,
   "id": "2a25728a",
   "metadata": {},
   "outputs": [
    {
     "data": {
      "text/plain": [
       "str"
      ]
     },
     "execution_count": 12,
     "metadata": {},
     "output_type": "execute_result"
    }
   ],
   "source": [
    "type('hello')"
   ]
  },
  {
   "cell_type": "code",
   "execution_count": 13,
   "id": "ee6b99c7",
   "metadata": {},
   "outputs": [
    {
     "data": {
      "text/plain": [
       "int"
      ]
     },
     "execution_count": 13,
     "metadata": {},
     "output_type": "execute_result"
    }
   ],
   "source": [
    "type(1)"
   ]
  },
  {
   "cell_type": "code",
   "execution_count": 14,
   "id": "d0dc01bd",
   "metadata": {},
   "outputs": [
    {
     "data": {
      "text/plain": [
       "bool"
      ]
     },
     "execution_count": 14,
     "metadata": {},
     "output_type": "execute_result"
    }
   ],
   "source": [
    "type(True)"
   ]
  },
  {
   "cell_type": "code",
   "execution_count": 15,
   "id": "1a7b1cc8",
   "metadata": {},
   "outputs": [
    {
     "data": {
      "text/plain": [
       "float"
      ]
     },
     "execution_count": 15,
     "metadata": {},
     "output_type": "execute_result"
    }
   ],
   "source": [
    "type(1.00)"
   ]
  },
  {
   "cell_type": "code",
   "execution_count": 16,
   "id": "32ab9033",
   "metadata": {},
   "outputs": [
    {
     "data": {
      "text/plain": [
       "complex"
      ]
     },
     "execution_count": 16,
     "metadata": {},
     "output_type": "execute_result"
    }
   ],
   "source": [
    "type(1 + 5j)"
   ]
  },
  {
   "cell_type": "markdown",
   "id": "0ebec90b",
   "metadata": {},
   "source": [
    "<div style=\"background-color: #9DC9D5; padding: 10px;\">\n",
    "    \n",
    "#### Type Conversions - int(), str(), bool(), float()\n",
    "     \n",
    "</div>"
   ]
  },
  {
   "cell_type": "code",
   "execution_count": 17,
   "id": "113c8814",
   "metadata": {},
   "outputs": [
    {
     "name": "stdout",
     "output_type": "stream",
     "text": [
      "1501\n",
      "2510.0\n"
     ]
    }
   ],
   "source": [
    "#Convert value_1 from string to int type\n",
    "value_1 = '1500'\n",
    "print(int(value_1) + 1)\n",
    "\n",
    "#Convert value_2 from string to float type\n",
    "value_2 = '2500'\n",
    "print(float(value_2)+10)"
   ]
  },
  {
   "cell_type": "markdown",
   "id": "2504b177",
   "metadata": {},
   "source": [
    "<div style=\"background-color: #9DC9D5; padding: 10px;\">\n",
    "    \n",
    "#### Integer division always yields a floating point number\n",
    "     \n",
    "</div>"
   ]
  },
  {
   "cell_type": "code",
   "execution_count": 18,
   "id": "8994216b",
   "metadata": {},
   "outputs": [
    {
     "name": "stdout",
     "output_type": "stream",
     "text": [
      "5.0\n",
      "5.0\n",
      "0.99\n"
     ]
    }
   ],
   "source": [
    "print(10 / 2)  \n",
    "\n",
    "print(10.0 / 2.0) \n",
    "\n",
    "print(99.0 / 100) "
   ]
  },
  {
   "cell_type": "markdown",
   "id": "0d174c17",
   "metadata": {},
   "source": [
    "<div style=\"background-color: #9DC9D5; padding: 10px;\">\n",
    "    \n",
    "#### User Input \n",
    "<pre>We can instruct Python to pause and read data from the user using the input()  function\n",
    "The input()  function returns a string\n",
    "</pre>\n",
    "   \n",
    "</div>"
   ]
  },
  {
   "cell_type": "code",
   "execution_count": 19,
   "id": "da22247a",
   "metadata": {},
   "outputs": [
    {
     "name": "stdout",
     "output_type": "stream",
     "text": [
      "Who are you?Poornima\n",
      "Welcome to Python!!, Poornima\n"
     ]
    }
   ],
   "source": [
    "name = input (\"Who are you?\")\n",
    "print(\"Welcome to Python!!,\", name)"
   ]
  },
  {
   "cell_type": "markdown",
   "id": "af3cc3b1",
   "metadata": {},
   "source": [
    "<div style=\"background-color: #9DC9D5; padding: 10px;\">\n",
    "    \n",
    "#### User Input - Conversion\n",
    "<pre>If we want to read a number from user input\n",
    "</pre>\n",
    "\n",
    "</div>"
   ]
  },
  {
   "cell_type": "code",
   "execution_count": 20,
   "id": "014f5eae",
   "metadata": {},
   "outputs": [
    {
     "name": "stdout",
     "output_type": "stream",
     "text": [
      "What is the number of bottles per box in the 20 boxes?10\n",
      "Total bottles available in 20 boxes are 200\n"
     ]
    }
   ],
   "source": [
    "bottlescount = input(\"What is the number of bottles per box in the 20 boxes?\")\n",
    "totalbottlescount = int(bottlescount) * 20\n",
    "print(\"Total bottles available in 20 boxes are\", totalbottlescount)\n"
   ]
  },
  {
   "cell_type": "markdown",
   "id": "20f50bf4",
   "metadata": {},
   "source": [
    "<div style=\"background-color: #9DC9D5; padding: 10px;\">\n",
    "    \n",
    "#### Data Structures \n",
    "<pre>-  A particular way of organizing data in a computer!\n",
    "List, Tuple, Dictionary, and Set\n",
    "</pre>\n",
    "</div>"
   ]
  },
  {
   "cell_type": "markdown",
   "id": "20c8bc45",
   "metadata": {},
   "source": [
    "<div style=\"background-color: #9DC9D5; padding: 10px;\">\n",
    "    \n",
    "#### List [ ] - A list is a kind of collection that allows us to put many values in a single “variable”\n",
    "#### A linear collection of values that stay in order \n",
    "     \n",
    "</div>"
   ]
  },
  {
   "cell_type": "code",
   "execution_count": 21,
   "id": "b79bbdb1",
   "metadata": {},
   "outputs": [],
   "source": [
    "friends = [\"Sam\", \"Jam\", \"Tam\"]"
   ]
  },
  {
   "cell_type": "code",
   "execution_count": 22,
   "id": "bd188864",
   "metadata": {},
   "outputs": [
    {
     "data": {
      "text/plain": [
       "list"
      ]
     },
     "execution_count": 22,
     "metadata": {},
     "output_type": "execute_result"
    }
   ],
   "source": [
    "type(friends)"
   ]
  },
  {
   "cell_type": "markdown",
   "id": "ba3c4195",
   "metadata": {},
   "source": [
    "<div style=\"background-color: #9DC9D5; padding: 10px;\">\n",
    "    \n",
    "#### A list element can be any Python object - even another list or a list can be empty\n",
    "     \n",
    "</div>"
   ]
  },
  {
   "cell_type": "code",
   "execution_count": 23,
   "id": "7084203c",
   "metadata": {},
   "outputs": [
    {
     "name": "stdout",
     "output_type": "stream",
     "text": [
      "[1, 2 , 32.33, 'red']\n",
      "[1, 2, ['red','orange'], 34.502]\n",
      "[]\n"
     ]
    }
   ],
   "source": [
    "print(\"[1, 2 , 32.33, 'red']\")\n",
    "print(\"[1, 2, ['red','orange'], 34.502]\")\n",
    "print(\"[]\")\n"
   ]
  },
  {
   "cell_type": "markdown",
   "id": "d8ace0db",
   "metadata": {},
   "source": [
    "<div style=\"background-color: #9DC9D5; padding: 10px;\">\n",
    "    \n",
    "#### Using list in loops\n",
    "     \n",
    "</div>"
   ]
  },
  {
   "cell_type": "code",
   "execution_count": 24,
   "id": "28521ddd",
   "metadata": {},
   "outputs": [
    {
     "name": "stdout",
     "output_type": "stream",
     "text": [
      "5\n",
      "4\n",
      "3\n",
      "2\n",
      "1\n",
      "Blast Off!\n"
     ]
    }
   ],
   "source": [
    "for i in [5, 4, 3, 2, 1]:\n",
    "    print(i)\n",
    "print(\"Blast Off!\")"
   ]
  },
  {
   "cell_type": "code",
   "execution_count": 25,
   "id": "bd3d26fa",
   "metadata": {},
   "outputs": [
    {
     "name": "stdout",
     "output_type": "stream",
     "text": [
      "Welcome Sam\n",
      "Welcome Jam\n",
      "Welcome Tam\n",
      "Blast Off!\n"
     ]
    }
   ],
   "source": [
    "friends = [\"Sam\", \"Jam\", \"Tam\"]\n",
    "for friend in friends:\n",
    "    print(\"Welcome\",friend)\n",
    "print(\"Blast Off!\")"
   ]
  },
  {
   "cell_type": "markdown",
   "id": "52545b2a",
   "metadata": {},
   "source": [
    "<div style=\"background-color: #9DC9D5; padding: 10px;\">\n",
    "    \n",
    "#### List Index - We can get at any single element in a list using an index specified in square brackets! \n",
    "#### Index starts from 0, 1, 2 .......\n",
    "     \n",
    "</div>"
   ]
  },
  {
   "cell_type": "code",
   "execution_count": 26,
   "id": "ffbdac28",
   "metadata": {},
   "outputs": [
    {
     "data": {
      "text/plain": [
       "'Jam'"
      ]
     },
     "execution_count": 26,
     "metadata": {},
     "output_type": "execute_result"
    }
   ],
   "source": [
    "friends = [\"Sam\", \"Jam\", \"Tam\"]\n",
    "friends[1]"
   ]
  },
  {
   "cell_type": "markdown",
   "id": "a4007ec4",
   "metadata": {},
   "source": [
    "<div style=\"background-color: #9DC9D5; padding: 10px;\">\n",
    "    \n",
    "#### Strings vs Lists\n",
    "<pre>Strings are immutable - We cannot change the contents of a string - we must make a new string to make any change.\n",
    "Lists are “mutable” - we can change an element of a list using the index operator\n",
    "</pre>\n",
    "</div>"
   ]
  },
  {
   "cell_type": "code",
   "execution_count": 27,
   "id": "3a58a04f",
   "metadata": {},
   "outputs": [],
   "source": [
    "#We cannot change content of the string\n",
    "place = 'Arkansas'\n",
    "#place[1] = 'b'"
   ]
  },
  {
   "cell_type": "code",
   "execution_count": 28,
   "id": "507f4155",
   "metadata": {},
   "outputs": [
    {
     "name": "stdout",
     "output_type": "stream",
     "text": [
      "[10, 20, 30, 40, 50]\n"
     ]
    }
   ],
   "source": [
    "scores = [10, 20, 30, 40, 60]\n",
    "scores [4] = 50\n",
    "print(scores)"
   ]
  },
  {
   "cell_type": "markdown",
   "id": "e35207ab",
   "metadata": {},
   "source": [
    "<div style=\"background-color: #9DC9D5; padding: 10px;\">\n",
    "    \n",
    "#### List Methods \n",
    "     \n",
    "</div>"
   ]
  },
  {
   "cell_type": "code",
   "execution_count": 29,
   "id": "0e0eae8f",
   "metadata": {},
   "outputs": [
    {
     "data": {
      "text/plain": [
       "['__add__',\n",
       " '__class__',\n",
       " '__class_getitem__',\n",
       " '__contains__',\n",
       " '__delattr__',\n",
       " '__delitem__',\n",
       " '__dir__',\n",
       " '__doc__',\n",
       " '__eq__',\n",
       " '__format__',\n",
       " '__ge__',\n",
       " '__getattribute__',\n",
       " '__getitem__',\n",
       " '__getstate__',\n",
       " '__gt__',\n",
       " '__hash__',\n",
       " '__iadd__',\n",
       " '__imul__',\n",
       " '__init__',\n",
       " '__init_subclass__',\n",
       " '__iter__',\n",
       " '__le__',\n",
       " '__len__',\n",
       " '__lt__',\n",
       " '__mul__',\n",
       " '__ne__',\n",
       " '__new__',\n",
       " '__reduce__',\n",
       " '__reduce_ex__',\n",
       " '__repr__',\n",
       " '__reversed__',\n",
       " '__rmul__',\n",
       " '__setattr__',\n",
       " '__setitem__',\n",
       " '__sizeof__',\n",
       " '__str__',\n",
       " '__subclasshook__',\n",
       " 'append',\n",
       " 'clear',\n",
       " 'copy',\n",
       " 'count',\n",
       " 'extend',\n",
       " 'index',\n",
       " 'insert',\n",
       " 'pop',\n",
       " 'remove',\n",
       " 'reverse',\n",
       " 'sort']"
      ]
     },
     "execution_count": 29,
     "metadata": {},
     "output_type": "execute_result"
    }
   ],
   "source": [
    "dir(list)"
   ]
  },
  {
   "cell_type": "markdown",
   "id": "06e5d633",
   "metadata": {},
   "source": [
    "<div style=\"background-color: #9DC9D5; padding: 10px;\">\n",
    "    \n",
    "#### Length - The len() function returns the number of elements in a list, set, sequence, or any collection and takes for example list as a parameter\n",
    "     \n",
    "</div>"
   ]
  },
  {
   "cell_type": "code",
   "execution_count": 30,
   "id": "8dc66b3c",
   "metadata": {},
   "outputs": [
    {
     "data": {
      "text/plain": [
       "4"
      ]
     },
     "execution_count": 30,
     "metadata": {},
     "output_type": "execute_result"
    }
   ],
   "source": [
    "x = [ 1, 2, 'joe', 99]\n",
    "len(x)"
   ]
  },
  {
   "cell_type": "code",
   "execution_count": 31,
   "id": "5d2259e8",
   "metadata": {},
   "outputs": [
    {
     "name": "stdout",
     "output_type": "stream",
     "text": [
      "12\n"
     ]
    }
   ],
   "source": [
    "y = 'Good morning'\n",
    "print(len(y))"
   ]
  },
  {
   "cell_type": "markdown",
   "id": "fdf809fb",
   "metadata": {},
   "source": [
    "<div style=\"background-color: #9DC9D5; padding: 10px;\">\n",
    "    \n",
    "#### Range - The range() function returns a list of numbers that range from zero to one less than the parameter\n",
    "#### We can construct an index loop using for and an integer iterator\n",
    "</div>"
   ]
  },
  {
   "cell_type": "code",
   "execution_count": 32,
   "id": "d2116fb9",
   "metadata": {},
   "outputs": [
    {
     "data": {
      "text/plain": [
       "range(0, 4)"
      ]
     },
     "execution_count": 32,
     "metadata": {},
     "output_type": "execute_result"
    }
   ],
   "source": [
    "range(4)"
   ]
  },
  {
   "cell_type": "code",
   "execution_count": 33,
   "id": "74864cac",
   "metadata": {},
   "outputs": [
    {
     "data": {
      "text/plain": [
       "[0, 1, 2, 3]"
      ]
     },
     "execution_count": 33,
     "metadata": {},
     "output_type": "execute_result"
    }
   ],
   "source": [
    "list(range(4))"
   ]
  },
  {
   "cell_type": "code",
   "execution_count": 34,
   "id": "ee864b87",
   "metadata": {},
   "outputs": [
    {
     "name": "stdout",
     "output_type": "stream",
     "text": [
      "0\n",
      "1\n",
      "2\n",
      "3\n",
      "Blast OFf!\n"
     ]
    }
   ],
   "source": [
    "for i in range(4):\n",
    "    print(i)\n",
    "print(\"Blast OFf!\")"
   ]
  },
  {
   "cell_type": "code",
   "execution_count": 35,
   "id": "2dd69ed5",
   "metadata": {},
   "outputs": [
    {
     "name": "stdout",
     "output_type": "stream",
     "text": [
      "3\n",
      "range(0, 3)\n",
      "[0, 1, 2]\n"
     ]
    }
   ],
   "source": [
    "friends = [\"Sam\", \"Jam\", \"Tam\"]\n",
    "print(len(friends))\n",
    "print(range(len(friends)))\n",
    "print(list(range(len(friends))))"
   ]
  },
  {
   "cell_type": "code",
   "execution_count": 36,
   "id": "853a272a",
   "metadata": {},
   "outputs": [
    {
     "name": "stdout",
     "output_type": "stream",
     "text": [
      "Welcome Sam\n",
      "Welcome Jam\n",
      "Welcome Tam\n",
      "Blast Off\n"
     ]
    }
   ],
   "source": [
    "friends = [\"Sam\", \"Jam\", \"Tam\"]\n",
    "for i in range(len(friends)):\n",
    "    friend = friends[i]\n",
    "    print(\"Welcome\", friend)\n",
    "print(\"Blast Off\")"
   ]
  },
  {
   "cell_type": "markdown",
   "id": "c0e8e418",
   "metadata": {},
   "source": [
    "<div style=\"background-color: #9DC9D5; padding: 10px;\">\n",
    "    \n",
    "#### List Concatenation using + (We can create a new list by adding two existing lists together)\n",
    "   \n",
    "</div>"
   ]
  },
  {
   "cell_type": "code",
   "execution_count": 37,
   "id": "4ae33381",
   "metadata": {},
   "outputs": [
    {
     "name": "stdout",
     "output_type": "stream",
     "text": [
      "Concatenation of list a and b is [1, 2, 3, 4, 5, 'red', 6, 7, 8, ['silver', 'gold'], 92.88]\n"
     ]
    }
   ],
   "source": [
    "a = [1, 2, 3, 4, 5]\n",
    "b = ['red', 6, 7, 8, ['silver', 'gold'], 92.88]\n",
    "c = a + b\n",
    "print(\"Concatenation of list a and b is\", c)"
   ]
  },
  {
   "cell_type": "markdown",
   "id": "56a41a95",
   "metadata": {},
   "source": [
    "<div style=\"background-color: #9DC9D5; padding: 10px;\">\n",
    "    \n",
    "#### List Slicing - List can be sliced using : and just like in strings, the second number is “up to but not including”\n",
    "   \n",
    "</div>"
   ]
  },
  {
   "cell_type": "code",
   "execution_count": 38,
   "id": "c535d288",
   "metadata": {},
   "outputs": [
    {
     "data": {
      "text/plain": [
       "[1, 2]"
      ]
     },
     "execution_count": 38,
     "metadata": {},
     "output_type": "execute_result"
    }
   ],
   "source": [
    "a = [1, 2, 3, 4, 5]\n",
    "a[0:2]"
   ]
  },
  {
   "cell_type": "code",
   "execution_count": 39,
   "id": "5c0e7a1a",
   "metadata": {},
   "outputs": [
    {
     "data": {
      "text/plain": [
       "[1, 2, 3, 4]"
      ]
     },
     "execution_count": 39,
     "metadata": {},
     "output_type": "execute_result"
    }
   ],
   "source": [
    "a[:4]"
   ]
  },
  {
   "cell_type": "code",
   "execution_count": 40,
   "id": "9aa3b866",
   "metadata": {},
   "outputs": [
    {
     "data": {
      "text/plain": [
       "[4, 5]"
      ]
     },
     "execution_count": 40,
     "metadata": {},
     "output_type": "execute_result"
    }
   ],
   "source": [
    "a[3:]"
   ]
  },
  {
   "cell_type": "code",
   "execution_count": 41,
   "id": "9a7a81eb",
   "metadata": {},
   "outputs": [
    {
     "data": {
      "text/plain": [
       "[1, 2, 3, 4, 5]"
      ]
     },
     "execution_count": 41,
     "metadata": {},
     "output_type": "execute_result"
    }
   ],
   "source": [
    "a[:]"
   ]
  },
  {
   "cell_type": "markdown",
   "id": "044c6d8f",
   "metadata": {},
   "source": [
    "<div style=\"background-color: #9DC9D5; padding: 10px;\">\n",
    "    \n",
    "#### Building list from scratch\n",
    "<pre>\n",
    "We can create an empty list and then add elements using the append method\n",
    "The list stays in order and new elements are added at the end of the list\n",
    "</pre>\n",
    "</div>"
   ]
  },
  {
   "cell_type": "code",
   "execution_count": 42,
   "id": "93537af4",
   "metadata": {},
   "outputs": [
    {
     "name": "stdout",
     "output_type": "stream",
     "text": [
      "['Tam', 3, 5]\n"
     ]
    }
   ],
   "source": [
    "#friend = []\n",
    "friend = list()\n",
    "friend.append(\"Tam\")\n",
    "friend.append(3)\n",
    "friend.append(5)\n",
    "print(friend)"
   ]
  },
  {
   "cell_type": "code",
   "execution_count": 43,
   "id": "28fabc92",
   "metadata": {},
   "outputs": [
    {
     "name": "stdout",
     "output_type": "stream",
     "text": [
      "['Tam', 3, 5, 'Jam']\n"
     ]
    }
   ],
   "source": [
    "friend.append(\"Jam\")\n",
    "print(friend)"
   ]
  },
  {
   "cell_type": "markdown",
   "id": "58190784",
   "metadata": {},
   "source": [
    "<div style=\"background-color: #9DC9D5; padding: 10px;\">\n",
    "    \n",
    "#### Is something in the list : Use in keyword to know if the element exists in the list\n",
    "<pre>\n",
    "Python provides two operators that let you check if an item is in a list\n",
    "These are logical operators that return True or False\n",
    "They do not modify the list\n",
    "</pre>\n",
    "</div>"
   ]
  },
  {
   "cell_type": "code",
   "execution_count": 44,
   "id": "30c96627",
   "metadata": {},
   "outputs": [
    {
     "data": {
      "text/plain": [
       "True"
      ]
     },
     "execution_count": 44,
     "metadata": {},
     "output_type": "execute_result"
    }
   ],
   "source": [
    "a = [1, 2, 3, 4, 5]\n",
    "1 in a"
   ]
  },
  {
   "cell_type": "code",
   "execution_count": 45,
   "id": "d899e7a6",
   "metadata": {},
   "outputs": [
    {
     "data": {
      "text/plain": [
       "False"
      ]
     },
     "execution_count": 45,
     "metadata": {},
     "output_type": "execute_result"
    }
   ],
   "source": [
    "15 in a"
   ]
  },
  {
   "cell_type": "code",
   "execution_count": 46,
   "id": "9b323227",
   "metadata": {},
   "outputs": [
    {
     "data": {
      "text/plain": [
       "True"
      ]
     },
     "execution_count": 46,
     "metadata": {},
     "output_type": "execute_result"
    }
   ],
   "source": [
    "14 not in a"
   ]
  },
  {
   "cell_type": "markdown",
   "id": "49148f90",
   "metadata": {},
   "source": [
    "<div style=\"background-color: #9DC9D5; padding: 10px;\">\n",
    "    \n",
    "#### List Sorting using .sort()\n",
    "   \n",
    "</div>"
   ]
  },
  {
   "cell_type": "code",
   "execution_count": 47,
   "id": "f28870b5",
   "metadata": {},
   "outputs": [
    {
     "name": "stdout",
     "output_type": "stream",
     "text": [
      "['Jam', 'Sam', 'Tam']\n"
     ]
    }
   ],
   "source": [
    "friend = [\"Tam\", \"Jam\", \"Sam\"]\n",
    "friend.sort()\n",
    "print(friend)"
   ]
  },
  {
   "cell_type": "markdown",
   "id": "7b18f3eb",
   "metadata": {},
   "source": [
    "<div style=\"background-color: #9DC9D5; padding: 10px;\">\n",
    "    \n",
    "#### Python built-in functions using for lists\n",
    "<pre>\n",
    "Built in functions such as sum, min, max, mean, len\n",
    "</pre>\n",
    "</div>"
   ]
  },
  {
   "cell_type": "code",
   "execution_count": 48,
   "id": "5077dca3",
   "metadata": {},
   "outputs": [
    {
     "name": "stdout",
     "output_type": "stream",
     "text": [
      "Length of nums is 5\n",
      "Sum of nums is 15\n",
      "Minimum of nums is 1\n",
      "Maximum of nums is 5\n",
      "Average of nums is 3.0\n"
     ]
    }
   ],
   "source": [
    "nums = [1, 2, 3, 4, 5]\n",
    "print(\"Length of nums is\",len(nums))\n",
    "print(\"Sum of nums is\",sum(nums))\n",
    "print(\"Minimum of nums is\",min(nums))\n",
    "print(\"Maximum of nums is\",max(nums))\n",
    "print(\"Average of nums is\",sum(nums)/len(nums))"
   ]
  },
  {
   "cell_type": "code",
   "execution_count": 49,
   "id": "ef9aa4e1",
   "metadata": {},
   "outputs": [
    {
     "name": "stdout",
     "output_type": "stream",
     "text": [
      "Length of nums is 5\n",
      "Sum of nums is 15\n",
      "Minimum of nums is 1\n",
      "Maximum of nums is 5\n",
      "Average of nums is 3\n"
     ]
    }
   ],
   "source": [
    "from statistics import mean\n",
    "nums = [1, 2, 3, 4, 5]\n",
    "print(\"Length of nums is\",len(nums))\n",
    "print(\"Sum of nums is\",sum(nums))\n",
    "print(\"Minimum of nums is\",min(nums))\n",
    "print(\"Maximum of nums is\",max(nums))\n",
    "print(\"Average of nums is\",mean(nums))"
   ]
  },
  {
   "cell_type": "code",
   "execution_count": 50,
   "id": "87090424",
   "metadata": {},
   "outputs": [
    {
     "name": "stdout",
     "output_type": "stream",
     "text": [
      "Enter a number?10\n",
      "Enter a number?11\n",
      "Enter a number?Done\n",
      "Average is 10.5\n"
     ]
    }
   ],
   "source": [
    "# How to calculate average\n",
    "total = 0\n",
    "count = 0\n",
    "\n",
    "while True:\n",
    "    value = input(\"Enter a number?\")\n",
    "    if value == 'Done':\n",
    "        break\n",
    "    total = total + float(value)\n",
    "    count = count + 1\n",
    "\n",
    "average = total/count\n",
    "print(\"Average is\", average)"
   ]
  },
  {
   "cell_type": "code",
   "execution_count": 51,
   "id": "31d8ab4c",
   "metadata": {},
   "outputs": [
    {
     "name": "stdout",
     "output_type": "stream",
     "text": [
      "Enter a number?10\n",
      "Enter a number?11\n",
      "Enter a number?Done\n",
      "Average is 10.5\n"
     ]
    }
   ],
   "source": [
    "# How to calculate average using list\n",
    "total = list()\n",
    "\n",
    "while True:\n",
    "    value = input(\"Enter a number?\")\n",
    "    if value == 'Done':\n",
    "        break\n",
    "    total.append(float(value))\n",
    "    \n",
    "average = sum(total)/len(total)\n",
    "print(\"Average is\", average)"
   ]
  },
  {
   "cell_type": "markdown",
   "id": "648fae6c",
   "metadata": {},
   "source": [
    "<div style=\"background-color: #9DC9D5; padding: 10px;\">\n",
    "    \n",
    "#### List .split() function\n",
    "<pre>\n",
    "Split breaks a string into parts and produces a list of strings.  \n",
    "We think of these as words.  We can access a particular word or loop through all the words.\n",
    "When you do not specify a delimiter, multiple spaces are treated like one delimiter\n",
    "You can specify what delimiter character to use in the splitting\n",
    "</pre>\n",
    "</div>"
   ]
  },
  {
   "cell_type": "code",
   "execution_count": 52,
   "id": "b8d8f823",
   "metadata": {},
   "outputs": [
    {
     "name": "stdout",
     "output_type": "stream",
     "text": [
      "['With', 'three', 'words']\n",
      "3\n",
      "With\n"
     ]
    }
   ],
   "source": [
    "abc = 'With three words'\n",
    "stuff = abc.split()\n",
    "print(stuff)\n",
    "print(len(stuff))\n",
    "print(stuff[0])"
   ]
  },
  {
   "cell_type": "code",
   "execution_count": 53,
   "id": "bfe93e8a",
   "metadata": {},
   "outputs": [
    {
     "name": "stdout",
     "output_type": "stream",
     "text": [
      "With\n",
      "three\n",
      "words\n"
     ]
    }
   ],
   "source": [
    "for i in stuff:\n",
    "    print(i)"
   ]
  },
  {
   "cell_type": "code",
   "execution_count": 54,
   "id": "541a3c90",
   "metadata": {},
   "outputs": [
    {
     "name": "stdout",
     "output_type": "stream",
     "text": [
      "['first;second;third']\n",
      "1\n",
      "['first', 'second', 'third']\n",
      "3\n"
     ]
    }
   ],
   "source": [
    "line = 'first;second;third'\n",
    "thing = line.split()\n",
    "print(thing)\n",
    "print(len(thing))\n",
    "thing = line.split(';')\n",
    "print(thing)\n",
    "print(len(thing))\n",
    "\n"
   ]
  },
  {
   "cell_type": "markdown",
   "id": "d28a7237",
   "metadata": {},
   "source": [
    "<div style=\"background-color: #9DC9D5; padding: 10px;\">\n",
    "    \n",
    "## Summary - Lists\n",
    "</div>"
   ]
  },
  {
   "cell_type": "code",
   "execution_count": 55,
   "id": "325ded4c",
   "metadata": {},
   "outputs": [
    {
     "name": "stdout",
     "output_type": "stream",
     "text": [
      "['Dog', 'Cat', 'Bird', 'Fish']\n",
      "['Dog', 'Cat', 'Bird', 'Turtle']\n",
      "4\n",
      "['Dog', 'Cat']\n",
      "['Dog', 'Cat', 'Bird', 'Turtle', 'Fox']\n",
      "['Dog', 'Cat', 'Turtle', 'Fox']\n"
     ]
    }
   ],
   "source": [
    "# Here is your starer list of pet types\n",
    "pet_types = ['Dog', 'Cat', 'Bird', 'Fish']\n",
    "print(pet_types)\n",
    "\n",
    "#step1 - Changed from Fish to Turtle\n",
    "pet_types[3] = 'Turtle'\n",
    "print(pet_types)\n",
    "\n",
    "#step2 - Count the items in the list\n",
    "print(len(pet_types))\n",
    "\n",
    "#step3 - Displayed the items 1 and 2 of the list\n",
    "print(pet_types[0:2])\n",
    "\n",
    "#step4 - Added Python to the list\n",
    "pet_types.append('Fox')\n",
    "print(pet_types)\n",
    "\n",
    "#step5 - Removed bird from the list\n",
    "pet_types.remove('Bird')\n",
    "print(pet_types)\n"
   ]
  },
  {
   "cell_type": "markdown",
   "id": "cf292406",
   "metadata": {},
   "source": [
    "<div style=\"background-color: #9DC9D5; padding: 10px;\">\n",
    "    \n",
    "#### Dictionary {} - A “bag” of values, each with its own label\n",
    "<pre>\n",
    "Lists index their entries based on the position in the list\n",
    "Dictionaries are like bags - no order\n",
    "So we index the things we put in the dictionary with a “lookup tag”\n",
    "Dictionaries are like lists except that they use keys instead of numbers to look up values\n",
    "</pre>\n",
    "</div>"
   ]
  },
  {
   "cell_type": "code",
   "execution_count": 56,
   "id": "83a33fa4",
   "metadata": {},
   "outputs": [
    {
     "name": "stdout",
     "output_type": "stream",
     "text": [
      "{'money': 150, 'candy': 3, 'clips': 10, 'biscuits': 2}\n"
     ]
    }
   ],
   "source": [
    "purse = dict()\n",
    "purse ['money'] = 150\n",
    "purse ['candy'] = 3\n",
    "purse['clips'] = 10\n",
    "purse['biscuits'] = 2\n",
    "print(purse)"
   ]
  },
  {
   "cell_type": "code",
   "execution_count": 57,
   "id": "aa784837",
   "metadata": {},
   "outputs": [
    {
     "data": {
      "text/plain": [
       "dict"
      ]
     },
     "execution_count": 57,
     "metadata": {},
     "output_type": "execute_result"
    }
   ],
   "source": [
    "type(purse)"
   ]
  },
  {
   "cell_type": "markdown",
   "id": "df10d632",
   "metadata": {},
   "source": [
    "<div style=\"background-color: #9DC9D5; padding: 10px;\">  \n",
    "    \n",
    "#### Dictionary literals use curly braces and have a list of key : value pairs\n",
    "#### You can make an empty dictionary using empty curly braces \n",
    "    \n",
    "</div>"
   ]
  },
  {
   "cell_type": "code",
   "execution_count": 58,
   "id": "ca30ae8a",
   "metadata": {},
   "outputs": [
    {
     "name": "stdout",
     "output_type": "stream",
     "text": [
      "{'pens': 2, 'erasers': 2, 'pencils': 5, 'scale': 1}\n"
     ]
    }
   ],
   "source": [
    "pencilbox = {'pens': 2, 'erasers' : 2, 'pencils' : 5, 'scale' : 1}\n",
    "print(pencilbox)"
   ]
  },
  {
   "cell_type": "code",
   "execution_count": 59,
   "id": "350c3f6d",
   "metadata": {},
   "outputs": [
    {
     "name": "stdout",
     "output_type": "stream",
     "text": [
      "{}\n"
     ]
    }
   ],
   "source": [
    "pencilbox = {}\n",
    "print(pencilbox)"
   ]
  },
  {
   "cell_type": "markdown",
   "id": "589d4ce5",
   "metadata": {},
   "source": [
    "<div style=\"background-color: #9DC9D5; padding: 10px;\">\n",
    "    \n",
    "#### Dictionary {} - Counting\n",
    "<pre>\n",
    "One common use of Dictionary is counting\n",
    "</pre>\n",
    "</div>"
   ]
  },
  {
   "cell_type": "code",
   "execution_count": 60,
   "id": "749f4aa1",
   "metadata": {},
   "outputs": [
    {
     "name": "stdout",
     "output_type": "stream",
     "text": [
      "{'abc': 1, 'def': 1}\n",
      "{'abc': 1, 'def': 2}\n"
     ]
    }
   ],
   "source": [
    "count = dict()\n",
    "count['abc'] = 1\n",
    "count['def'] = 1\n",
    "print(count)\n",
    "count['def'] = count['def'] + 1\n",
    "print(count)"
   ]
  },
  {
   "cell_type": "markdown",
   "id": "b7b94848",
   "metadata": {},
   "source": [
    "<div style=\"background-color: #9DC9D5; padding: 10px;\">  \n",
    "    \n",
    "#### Dictionary Index - We can get at any single element using the key in squared brackets \n",
    "    \n",
    "</div>"
   ]
  },
  {
   "cell_type": "code",
   "execution_count": 61,
   "id": "c7d08933",
   "metadata": {},
   "outputs": [
    {
     "name": "stdout",
     "output_type": "stream",
     "text": [
      "2\n"
     ]
    }
   ],
   "source": [
    "print(count['def'])"
   ]
  },
  {
   "cell_type": "markdown",
   "id": "264afefe",
   "metadata": {},
   "source": [
    "<div style=\"background-color: #9DC9D5; padding: 10px;\">  \n",
    "    \n",
    "#### Convert list into dictionary to estimate the count\n",
    "    \n",
    "</div>"
   ]
  },
  {
   "cell_type": "code",
   "execution_count": 62,
   "id": "8e5faad7",
   "metadata": {},
   "outputs": [
    {
     "name": "stdout",
     "output_type": "stream",
     "text": [
      "{'abc': 2, 'xyz': 1, 'def': 2}\n"
     ]
    }
   ],
   "source": [
    "counts = dict()\n",
    "names = ['abc', 'abc', 'xyz', 'def', 'def']\n",
    "for name in names:\n",
    "    if name not in counts:\n",
    "        counts[name] = 1\n",
    "    else:\n",
    "        counts[name] = counts[name] + 1\n",
    "print(counts)\n",
    "        "
   ]
  },
  {
   "cell_type": "markdown",
   "id": "3dc98fe9",
   "metadata": {},
   "source": [
    "<div style=\"background-color: #9DC9D5; padding: 10px;\">  \n",
    "    \n",
    "#### Using the get() method in the dictionary\n",
    "<pre>\n",
    "The pattern of checking to see if a key is already in a dictionary and assuming a default value if the key is not there is so common that there is a method called get() that does this for us\n",
    "</pre>\n",
    "    \n",
    "</div>"
   ]
  },
  {
   "cell_type": "code",
   "execution_count": 63,
   "id": "44fabec9",
   "metadata": {},
   "outputs": [
    {
     "name": "stdout",
     "output_type": "stream",
     "text": [
      "{'abc': 2, 'xyz': 1, 'def': 2}\n"
     ]
    }
   ],
   "source": [
    "counts = dict()\n",
    "names = ['abc', 'abc', 'xyz', 'def', 'def']\n",
    "for name in names :\n",
    "    counts[name] = counts.get(name, 0) + 1\n",
    "print(counts)"
   ]
  },
  {
   "cell_type": "markdown",
   "id": "2d9e05e9",
   "metadata": {},
   "source": [
    "<div style=\"background-color: #9DC9D5; padding: 10px;\">  \n",
    "    \n",
    "#### Using the get() method in the dictionary to count the words in a line\n",
    "<pre>\n",
    "The general pattern to count the words in a line of text is to split the line into words, then loop through the words and use a dictionary to track the count of each word independently.\n",
    "\n",
    "</pre>\n",
    "    \n",
    "</div>"
   ]
  },
  {
   "cell_type": "code",
   "execution_count": 64,
   "id": "4cf4d1fa",
   "metadata": {},
   "outputs": [
    {
     "name": "stdout",
     "output_type": "stream",
     "text": [
      "Enter a line of text\n",
      "I am Poornima and I love programming and creating solutions for problems\n",
      "Words are: ['I', 'am', 'Poornima', 'and', 'I', 'love', 'programming', 'and', 'creating', 'solutions', 'for', 'problems']\n",
      "{'I': 2, 'am': 1, 'Poornima': 1, 'and': 2, 'love': 1, 'programming': 1, 'creating': 1, 'solutions': 1, 'for': 1, 'problems': 1}\n"
     ]
    }
   ],
   "source": [
    "counts = dict()\n",
    "print('Enter a line of text')\n",
    "line = input('')\n",
    "words = line.split()\n",
    "print(\"Words are:\", words)\n",
    "for word in words:\n",
    "    counts[word] = counts.get(word,0) + 1\n",
    "print(counts)"
   ]
  },
  {
   "cell_type": "markdown",
   "id": "ec23e8de",
   "metadata": {},
   "source": [
    "<div style=\"background-color: #9DC9D5; padding: 10px;\">  \n",
    "    \n",
    "#### Loops in Dictionaries\n",
    "<pre>\n",
    "Even though dictionaries are not stored in order, we can write a for loop that goes through all the entries in a dictionary – actually, it goes through all of the keys in the dictionary and looks up the values\n",
    "</pre>\n",
    "    \n",
    "</div>"
   ]
  },
  {
   "cell_type": "code",
   "execution_count": 65,
   "id": "b421e3c3",
   "metadata": {},
   "outputs": [
    {
     "name": "stdout",
     "output_type": "stream",
     "text": [
      "pens 2\n",
      "erasers 2\n",
      "pencils 5\n",
      "scale 1\n"
     ]
    }
   ],
   "source": [
    "pencilbox = {'pens': 2, 'erasers' : 2, 'pencils' : 5, 'scale' : 1}\n",
    "for key in pencilbox:\n",
    "    print(key, pencilbox[key])\n"
   ]
  },
  {
   "cell_type": "markdown",
   "id": "56db94b1",
   "metadata": {},
   "source": [
    "<div style=\"background-color: #9DC9D5; padding: 10px;\">  \n",
    "    \n",
    "#### Retrieving list of Keys and Values\n",
    "<pre>\n",
    "Even though dictionaries are not stored in order, we can write a for loop that goes through all the entries in a dictionary – actually, it goes through all of the keys in the dictionary and looks up the values\n",
    "</pre>\n",
    "    \n",
    "</div>"
   ]
  },
  {
   "cell_type": "code",
   "execution_count": 66,
   "id": "4c05e106",
   "metadata": {},
   "outputs": [
    {
     "name": "stdout",
     "output_type": "stream",
     "text": [
      "['pens', 'erasers', 'pencils', 'scale']\n",
      "['pens', 'erasers', 'pencils', 'scale']\n",
      "[2, 2, 5, 1]\n",
      "[('pens', 2), ('erasers', 2), ('pencils', 5), ('scale', 1)]\n"
     ]
    }
   ],
   "source": [
    "pencilbox = {'pens': 2, 'erasers' : 2, 'pencils' : 5, 'scale' : 1}\n",
    "print(list(pencilbox))\n",
    "print(list(pencilbox.keys()))\n",
    "print(list(pencilbox.values()))\n",
    "print(list(pencilbox.items())) #The items() method in dictionaries returns a list of (key, value) tuples “another type of data structure”"
   ]
  },
  {
   "cell_type": "markdown",
   "id": "f8de0acc",
   "metadata": {},
   "source": [
    "<div style=\"background-color: #9DC9D5; padding: 10px;\">  \n",
    "    \n",
    "#### Two Iteration variables\n",
    "<pre>\n",
    "We loop through the key-value pairs in a dictionary using *two* iteration variables\n",
    "Each iteration, the first variable is the key and the second variable is the corresponding value for the key\n",
    "</pre>\n",
    "</div>"
   ]
  },
  {
   "cell_type": "code",
   "execution_count": 67,
   "id": "76e19f2e",
   "metadata": {},
   "outputs": [
    {
     "name": "stdout",
     "output_type": "stream",
     "text": [
      "pens 2\n",
      "erasers 2\n",
      "pencils 5\n",
      "scale 1\n"
     ]
    }
   ],
   "source": [
    "pencilbox = {'pens': 2, 'erasers' : 2, 'pencils' : 5, 'scale' : 1}\n",
    "for i,j in pencilbox.items():\n",
    "    print(i,j)"
   ]
  },
  {
   "cell_type": "code",
   "execution_count": 68,
   "id": "e477eced",
   "metadata": {},
   "outputs": [
    {
     "name": "stdout",
     "output_type": "stream",
     "text": [
      "Science\n"
     ]
    }
   ],
   "source": [
    "classSchedule = {1: \"Math\", 2: \"Science\", 3: \"Social Studies\"} \n",
    "print(classSchedule[2]) "
   ]
  },
  {
   "cell_type": "markdown",
   "id": "37ecbf6c",
   "metadata": {},
   "source": [
    "<div style=\"background-color: #9DC9D5; padding: 10px;\">\n",
    "    \n",
    "## Summary - Dictionaries\n",
    "\n",
    "</div>\n"
   ]
  },
  {
   "cell_type": "code",
   "execution_count": 69,
   "id": "aa78b266",
   "metadata": {},
   "outputs": [
    {
     "name": "stdout",
     "output_type": "stream",
     "text": [
      "{'Dog': '7 years and 3 months', 'Cat': '2 years and 6 months', 'Python': '3 months'}\n",
      "{'Dog': '7 years and 3 months', 'Cat': '2 years and 8 months', 'Python': '3 months'}\n",
      "{'Dog': '7 years and 3 months', 'Cat': '2 years and 8 months', 'Python': '3 months', 'Lion': '5 years and 11 months'}\n",
      "{'Dog': {'age': '7 years and 3 months', 'size': 'small'}, 'Cat': {'age': '2 years and 6 months', 'size': 'small'}, 'Python': {'age': '3 months', 'size': 'long'}, 'Lion': {'age': '5 years and 11 months', 'size': 'small'}}\n"
     ]
    }
   ],
   "source": [
    "# Here is your starer dictionary of pet ages\n",
    "# Note: we could have also created the dictionary like this using curly braces:\n",
    "# pet_age = { 'Dog' : '7 years and 3 months' , 'Cat' : '2 years and 6 months', 'Python': '3 months'}\n",
    "\n",
    "pet_age = dict()\n",
    "pet_age['Dog'] = '7 years and 3 months'\n",
    "pet_age['Cat'] = '2 years and 6 months'\n",
    "pet_age['Python'] = '3 months'\n",
    "print(pet_age)\n",
    "\n",
    "#step1 - Update cat's age to 2 years and 8 months\n",
    "pet_age['Cat'] = '2 years and 8 months'\n",
    "print(pet_age)\n",
    "\n",
    "#step2 - add a pet and it's age to dictionary\n",
    "pet_age['Lion'] = '5 years and 11 months'\n",
    "print(pet_age)\n",
    "\n",
    "#step3 - assign a new pet dictionary with new column size\n",
    "pet_age_size = { \n",
    "    'Dog' : {'age':'7 years and 3 months', 'size':'small'},\n",
    "    'Cat' : {'age':'2 years and 6 months', 'size':'small'},\n",
    "    'Python' : {'age':'3 months', 'size':'long'},\n",
    "    'Lion' : {'age':'5 years and 11 months', 'size':'small'}\n",
    "}\n",
    "#step4 - print out the pet_age_size dictionary\n",
    "print(pet_age_size)\n"
   ]
  },
  {
   "cell_type": "markdown",
   "id": "bfd2f26c",
   "metadata": {},
   "source": [
    "<div style=\"background-color: #9DC9D5; padding: 10px;\">\n",
    "    \n",
    "#### Tuples () - Tuples are another kind of sequence that functions much like a list and they have elements that are indexed starting at 0\n",
    "\n",
    "#### They are immutable - Unlike a list, once you create a tuple, you cannot alter its contents - similar to a string\n",
    "    \n",
    "#### We cannot .sort(), .append(), .reverse() using tuples\n",
    "    \n",
    "#### Since Python does not have to build tuple structures to be modifiable, they are simpler and more efficient in terms of memory use and performance than lists\n",
    "#### So, in our program, when we are making “temporary variables” we prefer tuples over lists\n",
    "\n",
    "     \n",
    "</div>"
   ]
  },
  {
   "cell_type": "code",
   "execution_count": 70,
   "id": "170c03c8",
   "metadata": {},
   "outputs": [
    {
     "name": "stdout",
     "output_type": "stream",
     "text": [
      "Tam\n"
     ]
    }
   ],
   "source": [
    "names = ('Tam', 'Jam', 'Sam')\n",
    "print(names[0])"
   ]
  },
  {
   "cell_type": "code",
   "execution_count": 71,
   "id": "4001e8e2",
   "metadata": {},
   "outputs": [
    {
     "data": {
      "text/plain": [
       "tuple"
      ]
     },
     "execution_count": 71,
     "metadata": {},
     "output_type": "execute_result"
    }
   ],
   "source": [
    "type(names)"
   ]
  },
  {
   "cell_type": "code",
   "execution_count": 72,
   "id": "fe2c252f",
   "metadata": {},
   "outputs": [
    {
     "name": "stdout",
     "output_type": "stream",
     "text": [
      "4\n"
     ]
    }
   ],
   "source": [
    "x = (1, 2, 3, 4)\n",
    "print(x[3])"
   ]
  },
  {
   "cell_type": "code",
   "execution_count": 73,
   "id": "f43d7786",
   "metadata": {},
   "outputs": [
    {
     "name": "stdout",
     "output_type": "stream",
     "text": [
      "1\n",
      "2\n",
      "3\n",
      "4\n"
     ]
    }
   ],
   "source": [
    "for i in x:\n",
    "    print(i)"
   ]
  },
  {
   "cell_type": "code",
   "execution_count": 74,
   "id": "a78ee7c9",
   "metadata": {},
   "outputs": [],
   "source": [
    "# Tuples are immutable\n",
    "x = (1, 2, 3, 4)\n",
    "#x[1] = -1\n",
    "#print(x)"
   ]
  },
  {
   "cell_type": "code",
   "execution_count": 75,
   "id": "7574095a",
   "metadata": {},
   "outputs": [
    {
     "data": {
      "text/plain": [
       "['__add__',\n",
       " '__class__',\n",
       " '__class_getitem__',\n",
       " '__contains__',\n",
       " '__delattr__',\n",
       " '__dir__',\n",
       " '__doc__',\n",
       " '__eq__',\n",
       " '__format__',\n",
       " '__ge__',\n",
       " '__getattribute__',\n",
       " '__getitem__',\n",
       " '__getnewargs__',\n",
       " '__getstate__',\n",
       " '__gt__',\n",
       " '__hash__',\n",
       " '__init__',\n",
       " '__init_subclass__',\n",
       " '__iter__',\n",
       " '__le__',\n",
       " '__len__',\n",
       " '__lt__',\n",
       " '__mul__',\n",
       " '__ne__',\n",
       " '__new__',\n",
       " '__reduce__',\n",
       " '__reduce_ex__',\n",
       " '__repr__',\n",
       " '__rmul__',\n",
       " '__setattr__',\n",
       " '__sizeof__',\n",
       " '__str__',\n",
       " '__subclasshook__',\n",
       " 'count',\n",
       " 'index']"
      ]
     },
     "execution_count": 75,
     "metadata": {},
     "output_type": "execute_result"
    }
   ],
   "source": [
    "t = tuple()\n",
    "dir(t)"
   ]
  },
  {
   "cell_type": "markdown",
   "id": "610e8b4b",
   "metadata": {},
   "source": [
    "<div style=\"background-color: #9DC9D5; padding: 10px;\">  \n",
    "    \n",
    "#### Tuples and Assignment \n",
    "    \n",
    "#### We can also put a tuple on the left-hand side of an assignment statement\n",
    "We can even omit the parentheses\n",
    "\n",
    "</div>"
   ]
  },
  {
   "cell_type": "code",
   "execution_count": 76,
   "id": "f5da6634",
   "metadata": {},
   "outputs": [
    {
     "name": "stdout",
     "output_type": "stream",
     "text": [
      "99\n"
     ]
    }
   ],
   "source": [
    "(a, b) = (99, 100)\n",
    "print(a)"
   ]
  },
  {
   "cell_type": "code",
   "execution_count": 77,
   "id": "09dabbc3",
   "metadata": {},
   "outputs": [
    {
     "name": "stdout",
     "output_type": "stream",
     "text": [
      "fred\n"
     ]
    }
   ],
   "source": [
    "(x, y) = (4, 'fred')\n",
    "print(y)"
   ]
  },
  {
   "cell_type": "markdown",
   "id": "e07ddca5",
   "metadata": {},
   "source": [
    "<div style=\"background-color: #9DC9D5; padding: 10px;\">  \n",
    "    \n",
    "#### Tuples are Comparable\n",
    "    \n",
    "#### The comparison operators work with tuples and other sequences. If the first item is equal, Python goes on to the next element,  and so on, until it finds elements that differ.\n",
    "\n",
    "\n",
    "</div>"
   ]
  },
  {
   "cell_type": "code",
   "execution_count": 78,
   "id": "556d906f",
   "metadata": {},
   "outputs": [
    {
     "data": {
      "text/plain": [
       "True"
      ]
     },
     "execution_count": 78,
     "metadata": {},
     "output_type": "execute_result"
    }
   ],
   "source": [
    "(0, 2, 2) < (5, 1, 2)"
   ]
  },
  {
   "cell_type": "code",
   "execution_count": 79,
   "id": "d4727e78",
   "metadata": {},
   "outputs": [
    {
     "data": {
      "text/plain": [
       "True"
      ]
     },
     "execution_count": 79,
     "metadata": {},
     "output_type": "execute_result"
    }
   ],
   "source": [
    "(0, 1, 2000000) < (0, 3, 4)"
   ]
  },
  {
   "cell_type": "code",
   "execution_count": 80,
   "id": "b8c8e6a9",
   "metadata": {},
   "outputs": [
    {
     "data": {
      "text/plain": [
       "True"
      ]
     },
     "execution_count": 80,
     "metadata": {},
     "output_type": "execute_result"
    }
   ],
   "source": [
    "( 'Jones', 'Sally' ) < ('Jones', 'Sam')"
   ]
  },
  {
   "cell_type": "code",
   "execution_count": 78,
   "id": "6d707e28",
   "metadata": {},
   "outputs": [
    {
     "data": {
      "text/plain": [
       "True"
      ]
     },
     "execution_count": 78,
     "metadata": {},
     "output_type": "execute_result"
    }
   ],
   "source": [
    "( 'Jones', 'Sally') > ('Adams', 'Sam')"
   ]
  },
  {
   "attachments": {},
   "cell_type": "markdown",
   "id": "7e61190f",
   "metadata": {},
   "source": [
    "<div style=\"background-color: #9DC9D5; padding: 10px;\">  \n",
    "    \n",
    "#### Sorting list of tuples\n",
    "#### We can take advantage of the ability to sort a list of tuples to get a sorted version of a dictionary\n",
    "#### First, we sort the dictionary by the key using the items() method and sorted() function\n",
    "\n",
    "</div>"
   ]
  },
  {
   "cell_type": "code",
   "execution_count": 81,
   "id": "d9e4efbd",
   "metadata": {},
   "outputs": [
    {
     "data": {
      "text/plain": [
       "dict_items([('a', 1), ('c', 2), ('b', 3)])"
      ]
     },
     "execution_count": 81,
     "metadata": {},
     "output_type": "execute_result"
    }
   ],
   "source": [
    "x = {'a':1, 'c':2, 'b':3}\n",
    "x.items()"
   ]
  },
  {
   "cell_type": "code",
   "execution_count": 82,
   "id": "0e33bb77",
   "metadata": {},
   "outputs": [
    {
     "data": {
      "text/plain": [
       "[('a', 1), ('b', 3), ('c', 2)]"
      ]
     },
     "execution_count": 82,
     "metadata": {},
     "output_type": "execute_result"
    }
   ],
   "source": [
    "sorted(x.items())"
   ]
  },
  {
   "cell_type": "code",
   "execution_count": 83,
   "id": "6e667260",
   "metadata": {},
   "outputs": [
    {
     "data": {
      "text/plain": [
       "[('c', 2), ('b', 3), ('a', 1)]"
      ]
     },
     "execution_count": 83,
     "metadata": {},
     "output_type": "execute_result"
    }
   ],
   "source": [
    "sorted(x.items(),reverse=True) #sorting in descending"
   ]
  },
  {
   "attachments": {},
   "cell_type": "markdown",
   "id": "d9a8b8dc",
   "metadata": {},
   "source": [
    "<div style=\"background-color: #9DC9D5; padding: 10px;\">  \n",
    "    \n",
    "#### Sorting by values instead of key\n",
    "#### If we could construct a list of tuples of the form (value, key) we could sort by value\n",
    "#### We do this with a for loop that creates a list of tuples  \n",
    "\n",
    "</div>"
   ]
  },
  {
   "cell_type": "code",
   "execution_count": 84,
   "id": "ae7171fc",
   "metadata": {},
   "outputs": [
    {
     "name": "stdout",
     "output_type": "stream",
     "text": [
      "[(10, 'a'), (1, 'b'), (22, 'c')]\n"
     ]
    }
   ],
   "source": [
    "c = {'a':10, 'b':1, 'c':22}\n",
    "tmp = list()\n",
    "for k, v in c.items() :\n",
    "    tmp.append( (v, k) )\n",
    "print(tmp)"
   ]
  },
  {
   "cell_type": "code",
   "execution_count": 85,
   "id": "204b607d",
   "metadata": {},
   "outputs": [
    {
     "name": "stdout",
     "output_type": "stream",
     "text": [
      "[(22, 'c'), (10, 'a'), (1, 'b')]\n"
     ]
    }
   ],
   "source": [
    "tmp = sorted(tmp, reverse=True)\n",
    "print(tmp)"
   ]
  },
  {
   "cell_type": "code",
   "execution_count": null,
   "id": "0ca7f7a0",
   "metadata": {},
   "outputs": [],
   "source": []
  }
 ],
 "metadata": {
  "kernelspec": {
   "display_name": "Python 3 (ipykernel)",
   "language": "python",
   "name": "python3"
  },
  "language_info": {
   "codemirror_mode": {
    "name": "ipython",
    "version": 3
   },
   "file_extension": ".py",
   "mimetype": "text/x-python",
   "name": "python",
   "nbconvert_exporter": "python",
   "pygments_lexer": "ipython3",
   "version": "3.11.5"
  }
 },
 "nbformat": 4,
 "nbformat_minor": 5
}
