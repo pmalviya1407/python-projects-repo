{
 "cells": [
  {
   "cell_type": "markdown",
   "metadata": {},
   "source": [
    "<div style=\"background-color: #9D2235; color: white; padding: 10px; \">\n",
    "    \n",
    " ## Python - Conditional Statements and Loops\n",
    "    \n",
    "</div>"
   ]
  },
  {
   "cell_type": "markdown",
   "metadata": {},
   "source": [
    "<div style=\"background-color: #9DC9D5; padding :10px;\">\n",
    "        \n",
    "<h3 style=\"margin-bottom: 5px;\">Conditional statement in Python and its Purpose</h3>\n",
    "Conditional statements are used to control the flow of a program based on certain conditions. The main purpose is to help in decision-making, branching,and error-handling.  \n",
    "\n",
    "<h4 style=\"margin-bottom: 5px;\">Key Keywords Used in Conditional Statements:</h4>\n",
    "\n",
    "- if : To execute a block of code only if a specified condition is True. It's the primary decision-making statement in Python.\n",
    "- elif : To check additional conditions if the previous if or elif conditions were False. Allows for multiple condition checks in a single structure.\n",
    "- else : To provide a default action when all preceding if and elif conditions are False. It's optional and can only be used once at the end of an if-elif chain. Serves as a catch-all for any case not covered by the if and elif conditions.\n",
    "\n",
    "</div>"
   ]
  },
  {
   "cell_type": "code",
   "execution_count": 2,
   "metadata": {},
   "outputs": [
    {
     "name": "stdout",
     "output_type": "stream",
     "text": [
      "Smaller\n",
      "Finish\n"
     ]
    }
   ],
   "source": [
    "x  = 5\n",
    "if x < 10:\n",
    "    print(\"Smaller\")\n",
    "if x > 20:\n",
    "    print(\"Bigger\")\n",
    "print(\"Finish\")"
   ]
  },
  {
   "cell_type": "markdown",
   "metadata": {},
   "source": [
    "<div style=\"background-color: #9DC9D5; padding: 10px;\">\n",
    "    \n",
    "## Comparison Operators : <, <=, >, >=, ==, !=\n",
    "\n",
    "    - Boolean expressions ask a question and produce a Yes or No result which we use to control program flow\n",
    "    - Boolean expressions using comparison operators evaluate to True / False or Yes / No\n",
    "    - Comparison operators look at variables but do not change the variables\n",
    "    \n",
    "</div>"
   ]
  },
  {
   "cell_type": "code",
   "execution_count": 3,
   "metadata": {},
   "outputs": [
    {
     "name": "stdout",
     "output_type": "stream",
     "text": [
      "Before 5\n",
      "Is 5\n",
      "Is Still 5\n",
      "Third 5\n",
      "Afterwards 5\n",
      "Before 6\n",
      "Afterwards 6\n"
     ]
    }
   ],
   "source": [
    "x = 5\n",
    "print('Before 5')\n",
    "if  x == 5 :\n",
    "    print('Is 5')\n",
    "    print('Is Still 5')\n",
    "    print('Third 5')\n",
    "print('Afterwards 5')\n",
    "print('Before 6')\n",
    "if x == 6 :\n",
    "    print('Is 6')\n",
    "    print('Is Still 6')\n",
    "    print('Third 6')\n",
    "print('Afterwards 6')"
   ]
  },
  {
   "cell_type": "markdown",
   "metadata": {},
   "source": [
    "<div style=\"background-color: #9DC9D5; padding: 10px;\">\n",
    "    \n",
    "## Indentation\n",
    "\n",
    "    - Increase indent after an if statement or for statement (after : )\n",
    "    - Maintain indent to indicate the scope of the block (which lines are affected by the if/for)\n",
    "    - Reduce indent back to the level of the if statement or for statement to indicate the end of the block\n",
    "    - Blank lines are ignored - they do not affect indentation\n",
    "    - Comments on a line by themselves are ignored with regard to indentation\n",
    "\n",
    "    \n",
    "</div>"
   ]
  },
  {
   "cell_type": "code",
   "execution_count": 7,
   "metadata": {},
   "outputs": [
    {
     "name": "stdout",
     "output_type": "stream",
     "text": [
      "Bigger than 2\n",
      "Still bigger\n",
      "Done with 2\n",
      "0\n",
      "Done with i 0\n",
      "1\n",
      "Done with i 1\n",
      "2\n",
      "Done with i 2\n",
      "3\n",
      "Bigger than 2\n",
      "Done with i 3\n",
      "4\n",
      "Bigger than 2\n",
      "Done with i 4\n",
      "All Done\n"
     ]
    }
   ],
   "source": [
    "x = 5\n",
    "if x > 2 :\n",
    "    print('Bigger than 2')\n",
    "    print('Still bigger')\n",
    "print('Done with 2')\n",
    "\n",
    "for i in range(5):\n",
    "    print(i)\n",
    "    if i > 2 : \n",
    "        print('Bigger than 2')\n",
    "    print('Done with i', i)\n",
    "print('All Done') "
   ]
  },
  {
   "cell_type": "code",
   "execution_count": 8,
   "metadata": {},
   "outputs": [
    {
     "name": "stdout",
     "output_type": "stream",
     "text": [
      "More than one\n",
      "Less than 100\n",
      "All done\n"
     ]
    }
   ],
   "source": [
    "#Nested Decisions\n",
    "x = 42\n",
    "if x > 1 :\n",
    "    print('More than one')\n",
    "    if x < 100 : \n",
    "        print('Less than 100') \n",
    "print('All done')"
   ]
  },
  {
   "cell_type": "code",
   "execution_count": 9,
   "metadata": {},
   "outputs": [
    {
     "name": "stdout",
     "output_type": "stream",
     "text": [
      "Bigger\n",
      "All Done\n"
     ]
    }
   ],
   "source": [
    "#Two-way Decisions with else\n",
    "x = 4\n",
    "if x > 2:\n",
    "    print('Bigger')\n",
    "else:\n",
    "    print('Smaller')\n",
    "print('All Done')"
   ]
  },
  {
   "cell_type": "code",
   "execution_count": 10,
   "metadata": {},
   "outputs": [
    {
     "name": "stdout",
     "output_type": "stream",
     "text": [
      "Medium\n",
      "All Done\n"
     ]
    }
   ],
   "source": [
    "#Multi-way\n",
    "x = 4\n",
    "if x < 2:\n",
    "    print('small')\n",
    "elif x < 10 :\n",
    "    print('Medium')\n",
    "else:\n",
    "    print('large')\n",
    "print('All Done')"
   ]
  },
  {
   "cell_type": "code",
   "execution_count": 11,
   "metadata": {},
   "outputs": [
    {
     "name": "stdout",
     "output_type": "stream",
     "text": [
      "small\n",
      "All Done\n"
     ]
    }
   ],
   "source": [
    "x = 0\n",
    "if x < 2:\n",
    "    print('small')\n",
    "elif x < 10 :\n",
    "    print('Medium')\n",
    "else:\n",
    "    print('large')\n",
    "print('All Done')"
   ]
  },
  {
   "cell_type": "code",
   "execution_count": 12,
   "metadata": {},
   "outputs": [
    {
     "name": "stdout",
     "output_type": "stream",
     "text": [
      "Medium\n",
      "All done\n"
     ]
    }
   ],
   "source": [
    "x = 5 \n",
    "if x < 2 :\n",
    "    print('small')\n",
    "elif x < 10 :\n",
    "    print('Medium')\n",
    "else :\n",
    "    print('LARGE')\n",
    "print('All done')"
   ]
  },
  {
   "cell_type": "code",
   "execution_count": 13,
   "metadata": {},
   "outputs": [
    {
     "name": "stdout",
     "output_type": "stream",
     "text": [
      "LARGE\n",
      "All done\n"
     ]
    }
   ],
   "source": [
    "x = 20\n",
    "if x < 2 :\n",
    "    print('small')\n",
    "elif x < 10 :\n",
    "    print('Medium')\n",
    "else :\n",
    "    print('LARGE')\n",
    "print('All done')"
   ]
  },
  {
   "cell_type": "code",
   "execution_count": 14,
   "metadata": {},
   "outputs": [
    {
     "name": "stdout",
     "output_type": "stream",
     "text": [
      "Medium\n",
      "All done\n"
     ]
    }
   ],
   "source": [
    "# No Else\n",
    "x = 5\n",
    "if x < 2 :\n",
    "    print('Small')\n",
    "elif x < 10 :\n",
    "    print('Medium')\n",
    "\n",
    "print('All done')"
   ]
  },
  {
   "cell_type": "code",
   "execution_count": 15,
   "metadata": {},
   "outputs": [
    {
     "name": "stdout",
     "output_type": "stream",
     "text": [
      "Medium\n"
     ]
    }
   ],
   "source": [
    "x = 5\n",
    "if x < 2 :\n",
    "    print('Small')\n",
    "elif x < 10 :\n",
    "    print('Medium')\n",
    "elif x < 20 : \n",
    "    print('Big')\n",
    "elif x < 40 : \n",
    "    print('Large')\n",
    "elif x < 100:\n",
    "    print('Huge')\n",
    "else :\n",
    "    print('Ginormous')"
   ]
  },
  {
   "cell_type": "code",
   "execution_count": 23,
   "metadata": {},
   "outputs": [
    {
     "name": "stdout",
     "output_type": "stream",
     "text": [
      "You won the lotto!\n"
     ]
    }
   ],
   "source": [
    "x = 90\n",
    "if x < 10 :\n",
    "    print('You won a new toy!')\n",
    "elif x < 25 :\n",
    "    print('You won a new moped!')\n",
    "elif x < 50 : \n",
    "    print('You won a dreatm vacation!')\n",
    "elif x < 75 : \n",
    "    print('You won a new car!')\n",
    "elif x < 90:\n",
    "    print('You won a new house!')\n",
    "else :\n",
    "    print('You won the lotto!')"
   ]
  },
  {
   "cell_type": "markdown",
   "metadata": {},
   "source": [
    "<div style=\"background-color: #9DC9D5; padding: 10px;\">\n",
    "    \n",
    "## try/except structure\n",
    "\n",
    "    - If the code in the try works - the except is skipped\n",
    "    - If the code in the try fails - it jumps to the except section\n",
    "    \n",
    "</div>"
   ]
  },
  {
   "cell_type": "code",
   "execution_count": 17,
   "metadata": {},
   "outputs": [
    {
     "name": "stdout",
     "output_type": "stream",
     "text": [
      "Conversion of astr is -1\n",
      "Conversion of astr is 123\n"
     ]
    }
   ],
   "source": [
    "astr = 'Good morning'\n",
    "try:\n",
    "    istr = int(astr)\n",
    "except:\n",
    "    istr = -1\n",
    "print('Conversion of astr is', istr)\n",
    "\n",
    "astr = '123'\n",
    "try:\n",
    "    istr = int(astr)\n",
    "except:\n",
    "    istr = -1\n",
    "print('Conversion of astr is', istr)"
   ]
  },
  {
   "cell_type": "code",
   "execution_count": 18,
   "metadata": {},
   "outputs": [
    {
     "name": "stdout",
     "output_type": "stream",
     "text": [
      "Hello\n",
      "Done -1\n"
     ]
    }
   ],
   "source": [
    "astr = 'Bob'\n",
    "try:\n",
    "    print('Hello') \n",
    "    istr = int(astr)\n",
    "    print('There') \n",
    "except:\n",
    "    istr = -1\n",
    "\n",
    "print('Done', istr) "
   ]
  },
  {
   "cell_type": "code",
   "execution_count": 20,
   "metadata": {},
   "outputs": [
    {
     "name": "stdout",
     "output_type": "stream",
     "text": [
      "Enter a number:123\n",
      "Nice work\n"
     ]
    }
   ],
   "source": [
    "rawstr = input('Enter a number:')\n",
    "try: \n",
    "    ival = int(rawstr)\n",
    "except: \n",
    "    ival = -1\n",
    "\n",
    "if ival > 0 :  \n",
    "    print('Nice work')\n",
    "else:  \n",
    "    print('Not a number')"
   ]
  },
  {
   "cell_type": "markdown",
   "metadata": {},
   "source": [
    "<div style=\"background-color: #9DC9D5; padding: 10px;\">  \n",
    "Input in a numeric grade (0.0 – 100.0) and print the assigned letter grade. \n",
    "</div>"
   ]
  },
  {
   "cell_type": "code",
   "execution_count": 26,
   "metadata": {},
   "outputs": [
    {
     "name": "stdout",
     "output_type": "stream",
     "text": [
      "Enter the grade: 81\n",
      "Letter grade is  B\n"
     ]
    }
   ],
   "source": [
    "grade = float(input(\"Enter the grade: \"))\n",
    "if grade >= 89.5:\n",
    "    letter_grade = 'A'\n",
    "elif grade >= 79.5:\n",
    "    letter_grade = 'B'\n",
    "elif grade >= 69.5:\n",
    "    letter_grade = 'C'\n",
    "elif grade >= 59.5:\n",
    "    letter_grade ='D'\n",
    "elif grade >=0:\n",
    "    letter_grade = 'E'\n",
    "else:\n",
    "    letter_grade = 'I'\n",
    "print(\"Letter grade is \", letter_grade)"
   ]
  },
  {
   "cell_type": "markdown",
   "metadata": {},
   "source": [
    "<div style=\"background-color: #9DC9D5; padding: 10px;\">  \n",
    "Using an ```if/else``` construct, greet the user appropriately for the time of day (morning, afternoon, evening).  \n",
    "</div>"
   ]
  },
  {
   "cell_type": "code",
   "execution_count": 27,
   "metadata": {},
   "outputs": [
    {
     "name": "stdout",
     "output_type": "stream",
     "text": [
      "The current hour is: 23\n",
      "What is your name? Poornima\n",
      "Good Evening, Poornima!  My name is Poornima Malviya\n"
     ]
    }
   ],
   "source": [
    "# Getting the current time\n",
    "from datetime import datetime as dt\n",
    "import pytz\n",
    "current_hour = dt.now(pytz.timezone(\"US/Central\")).hour\n",
    "print(f'The current hour is: {current_hour}')\n",
    "\n",
    "# Assign the variable to my_name\n",
    "my_name = 'Poornima Malviya'\n",
    "\n",
    "# Ask for the user's name\n",
    "user_name = input('What is your name? ')\n",
    "\n",
    "# Set the greeting to default to nothing\n",
    "greeting = ''\n",
    "\n",
    "# If the the current hour is less than 12, change the greeting to 'Morning'\n",
    "if current_hour < 12:\n",
    "    greeting =  'Morning'\n",
    "# Otherwise, if the current hour is between 12 and 17 (5pm) set the greeting to 'Afternoon'\n",
    "elif current_hour > 12 and current_hour < 17:\n",
    "    greeting = 'Afternoon'\n",
    "# Otherwise, set the greeting to 'Evening'\n",
    "else:\n",
    "    greeting = 'Evening'\n",
    "\n",
    "print(f'Good {greeting}, {user_name}!  My name is {my_name}')"
   ]
  },
  {
   "cell_type": "markdown",
   "metadata": {},
   "source": [
    "<div style=\"background-color: #9DC9D5; padding: 10px;\">\n",
    "    \n",
    "## Loops and Iteration structure\n",
    "\n",
    "    - Loops (repeated steps) have iteration variables that change each time through a loop.  Often these iteration variables go through a sequence of numbers.\n",
    "\n",
    "</div>"
   ]
  },
  {
   "cell_type": "markdown",
   "metadata": {},
   "source": [
    "<div style=\"background-color: #9DC9D5; padding: 10px;\">\n",
    "    \n",
    "## While Loops - Indefinite Loops\n",
    "\n",
    "    - While loops are called “indefinite loops” because they keep going until a logical \n",
    "    condition becomes False\n",
    "\n",
    "\n",
    "</div>"
   ]
  },
  {
   "cell_type": "code",
   "execution_count": 28,
   "metadata": {},
   "outputs": [
    {
     "name": "stdout",
     "output_type": "stream",
     "text": [
      "5\n",
      "4\n",
      "3\n",
      "2\n",
      "1\n",
      "Blast Off\n"
     ]
    }
   ],
   "source": [
    "n = 5\n",
    "while n > 0:\n",
    "    print(n)\n",
    "    n = n -1\n",
    "print(\"Blast Off\")"
   ]
  },
  {
   "cell_type": "code",
   "execution_count": 29,
   "metadata": {},
   "outputs": [
    {
     "name": "stdout",
     "output_type": "stream",
     "text": [
      "Dry off!\n"
     ]
    }
   ],
   "source": [
    "n = 0\n",
    "while n > 0 :\n",
    "    print('Lather')\n",
    "    print('Rinse')\n",
    "print('Dry off!')"
   ]
  },
  {
   "cell_type": "markdown",
   "metadata": {},
   "source": [
    "<div style=\"background-color: #9DC9D5; padding: 10px;\">\n",
    "    \n",
    "## Breaking out of a loop\n",
    "\n",
    "    - The break statement ends the current loop and jumps to the statement immediately \n",
    "    following the loop\n",
    "    - It is like a loop test that can happen anywhere in the body of the loop go through a \n",
    "    sequence of numbers.\n",
    "\n",
    "</div>"
   ]
  },
  {
   "cell_type": "code",
   "execution_count": 30,
   "metadata": {},
   "outputs": [
    {
     "name": "stdout",
     "output_type": "stream",
     "text": [
      "> Test\n",
      "Test\n",
      "> Before\n",
      "Before\n",
      "> done\n",
      "Done!\n"
     ]
    }
   ],
   "source": [
    "while True:\n",
    "    line = input('> ')\n",
    "    if line == 'done' :\n",
    "        break\n",
    "    print(line)\n",
    "print('Done!')\n"
   ]
  },
  {
   "cell_type": "markdown",
   "metadata": {},
   "source": [
    "<div style=\"background-color: #9DC9D5; padding: 10px;\">\n",
    "    \n",
    "## Finishing an Iteration with Continue\n",
    "\n",
    "    - The continue statement ends the current iteration and jumps to the top of the loop and \n",
    "    starts the next iteration.\n",
    "\n",
    "</div>"
   ]
  },
  {
   "cell_type": "code",
   "execution_count": 31,
   "metadata": {},
   "outputs": [
    {
     "name": "stdout",
     "output_type": "stream",
     "text": [
      "> extra\n",
      "extra\n",
      "> #christmas\n",
      "> #try\n",
      "> done\n",
      "Done!\n"
     ]
    }
   ],
   "source": [
    "while True:\n",
    "    line = input('> ')\n",
    "    if line[0] == '#' :\n",
    "        continue\n",
    "    if line == 'done' :\n",
    "        break\n",
    "    print(line)\n",
    "print('Done!')"
   ]
  },
  {
   "cell_type": "markdown",
   "metadata": {},
   "source": [
    "<div style=\"background-color: #9DC9D5; padding: 10px;\">\n",
    "    \n",
    "## for Loops - Definite Loops : Iterating over a set of items\n",
    "\n",
    "    - They execute an exact number of times,iterating over a set of items\n",
    "    - We say that “definite loops iterate through the members of a set\n",
    "    - Definite loops (for loops) have explicit iteration variables that change each time through loop.\n",
    "    - These iteration variables move through the sequence or set. \n",
    "\n",
    "</div>"
   ]
  },
  {
   "cell_type": "code",
   "execution_count": 33,
   "metadata": {},
   "outputs": [
    {
     "name": "stdout",
     "output_type": "stream",
     "text": [
      "5\n",
      "4\n",
      "3\n",
      "2\n",
      "1\n",
      "Blastoff\n"
     ]
    }
   ],
   "source": [
    "for i in [5, 4, 3, 2, 1]:\n",
    "    print(i)\n",
    "print('Blastoff')"
   ]
  },
  {
   "cell_type": "code",
   "execution_count": 34,
   "metadata": {},
   "outputs": [
    {
     "name": "stdout",
     "output_type": "stream",
     "text": [
      "Happy New Year: Joseph\n",
      "Happy New Year: Glenn\n",
      "Happy New Year: Sally\n",
      "Done!\n"
     ]
    }
   ],
   "source": [
    "friends = ['Joseph', 'Glenn', 'Sally']\n",
    "for friend in friends : \n",
    "   print('Happy New Year:', friend)\n",
    "print('Done!')"
   ]
  },
  {
   "cell_type": "code",
   "execution_count": 3,
   "metadata": {},
   "outputs": [
    {
     "name": "stdout",
     "output_type": "stream",
     "text": [
      "Largest so far 9 9\n",
      "Largest so far 81 81\n",
      "Largest so far 81 3\n",
      "Largest so far 81 65\n",
      "Largest so far 81 2\n",
      "Largest so far 81 11\n",
      "Largest so far 91 91\n",
      "Largest so far 91\n"
     ]
    }
   ],
   "source": [
    "#Finding the largest number\n",
    "largest_so_far = -1\n",
    "for num in [9, 81, 3, 65, 2, 11, 91]:\n",
    "    if num > largest_so_far:\n",
    "        largest_so_far = num\n",
    "    print(\"Largest so far\", largest_so_far, num)\n",
    "print(\"Largest so far\", largest_so_far)"
   ]
  },
  {
   "cell_type": "code",
   "execution_count": 5,
   "metadata": {},
   "outputs": [
    {
     "name": "stdout",
     "output_type": "stream",
     "text": [
      "Before 0\n",
      "Count is 1 thing is 10\n",
      "Count is 2 thing is 111\n",
      "Count is 3 thing is 12\n",
      "Count is 4 thing is 1\n",
      "Count is 5 thing is 6\n",
      "Count is 6 thing is 8\n",
      "After 6\n"
     ]
    }
   ],
   "source": [
    "#Counting in the loop - To add up a value we encounter in a loop,  we introduce a sum variable that starts at 0, and we add the value to the sum each time through the loop.\n",
    "\n",
    "zork = 0\n",
    "print(\"Before\", zork)\n",
    "for thing in [10, 111, 12, 1, 6, 8]:\n",
    "    zork = zork + 1\n",
    "    print (\"Count is\", zork,\"thing is\", thing)\n",
    "print(\"After\", zork)"
   ]
  },
  {
   "cell_type": "code",
   "execution_count": 6,
   "metadata": {},
   "outputs": [
    {
     "name": "stdout",
     "output_type": "stream",
     "text": [
      "Total is 148\n",
      "Average is 24.666666666666668\n"
     ]
    }
   ],
   "source": [
    "#Average and sum in the loop - An average just combines the counting and sum patterns and divides when the loop is done.\n",
    "\n",
    "total = 0\n",
    "avg = 0\n",
    "count = 0\n",
    "for i in [10, 111, 12, 1, 6, 8]:\n",
    "    total = total + i\n",
    "    count = count + 1\n",
    "print (\"Total is\", total)\n",
    "print(\"Average is\", total/count)"
   ]
  },
  {
   "cell_type": "code",
   "execution_count": 8,
   "metadata": {},
   "outputs": [
    {
     "name": "stdout",
     "output_type": "stream",
     "text": [
      "Large number 111\n",
      "Large number 66\n"
     ]
    }
   ],
   "source": [
    "#Filtering in the loop - We use an if statement in the loop to catch / filter the values we are looking for.\n",
    "for i in [10, 111, 12, 1, 66, 8]:\n",
    "    if i > 20:\n",
    "        print(\"Large number\",i)\n"
   ]
  },
  {
   "cell_type": "code",
   "execution_count": 12,
   "metadata": {},
   "outputs": [
    {
     "name": "stdout",
     "output_type": "stream",
     "text": [
      "Not Found 10\n",
      "Found 111\n",
      "Not Found 12\n",
      "Not Found 1\n",
      "Not Found 66\n",
      "Not Found 8\n"
     ]
    }
   ],
   "source": [
    "#Search using a Boolean Variable\n",
    "#If we just want to search and know if a value was found, we use a variable that starts at False and is set to True as soon as we find what we are looking for.\n",
    "found = False\n",
    "for value in [10, 111, 12, 1, 66, 8]:\n",
    "    if value == 111:\n",
    "        found = True\n",
    "        print(\"Found\", value)\n",
    "    else:\n",
    "        found = False\n",
    "        print(\"Not Found\", value)\n",
    "\n",
    "    "
   ]
  },
  {
   "cell_type": "code",
   "execution_count": 19,
   "metadata": {},
   "outputs": [
    {
     "name": "stdout",
     "output_type": "stream",
     "text": [
      "Smallest so far 2\n"
     ]
    }
   ],
   "source": [
    "#To find the smallest number\n",
    "#== checks if the values of two objects are the same.\n",
    "#is checks if two objects are the same object in memory (have the same identity).\n",
    "smallest_so_far = None\n",
    "for num in [9, 81, 3, 65, 2, 11, 91]:\n",
    "    if smallest_so_far is None:\n",
    "        smallest_so_far = num\n",
    "    elif num < smallest_so_far:\n",
    "        smallest_so_far = num\n",
    "    \n",
    "print(\"Smallest so far\", smallest_so_far)"
   ]
  },
  {
   "cell_type": "markdown",
   "metadata": {},
   "source": [
    "<div style=\"background-color: #9DC9D5; padding: 10px;\">\n",
    "    <h2 style=\"margin-bottom: 10px;\">Loops Summary</h2>\n",
    "\n",
    "</div>"
   ]
  },
  {
   "cell_type": "code",
   "execution_count": 22,
   "metadata": {},
   "outputs": [
    {
     "name": "stdout",
     "output_type": "stream",
     "text": [
      "Dog\n",
      "Cat\n",
      "Bird\n",
      "Turtle\n",
      "Python\n",
      "Python is our favorite!\n",
      "I am a message inside the loop\n",
      "Please End!\n",
      "10\n",
      "9\n",
      "8\n",
      "7\n",
      "6\n",
      "5\n",
      "4\n",
      "3\n",
      "2\n",
      "1\n",
      "Go Go Go!\n"
     ]
    }
   ],
   "source": [
    "# Loop 1:\n",
    "for pet_type in ['Dog', 'Cat', 'Bird', 'Turtle', 'Python'] :  \n",
    "   print(pet_type)\n",
    "print(\"Python is our favorite!\")\n",
    "\n",
    "# Loop 2:\n",
    "counter = 100\n",
    "while counter >= 100 :\n",
    "    print('I am a message inside the loop')\n",
    "    counter = counter - 1\n",
    "print('Please End!')\n",
    "\n",
    "# Loop 3:\n",
    "count_down = 10\n",
    "while count_down >= 1 :\n",
    "    print(count_down)\n",
    "    count_down = count_down - 1\n",
    "print('Go Go Go!')"
   ]
  },
  {
   "cell_type": "markdown",
   "metadata": {},
   "source": [
    "<div style=\"background-color: #9DC9D5; padding: 10px;\">\n",
    "For every number between 1 and 100, print the following on the screen:\n",
    "If the number is divisible by 3, print “Fizz”\n",
    "If the number is divisible by 5, print “Buzz”\n",
    "If the number is divisible by both 3 and 5, print “FizzBuzz”\n",
    "Otherwise, print the number  \n",
    "</div>"
   ]
  },
  {
   "cell_type": "code",
   "execution_count": 23,
   "metadata": {},
   "outputs": [
    {
     "name": "stdout",
     "output_type": "stream",
     "text": [
      "1\n",
      "2\n",
      "Fizz\n",
      "4\n",
      "Buzz\n",
      "Fizz\n",
      "7\n",
      "8\n",
      "Fizz\n",
      "Buzz\n",
      "11\n",
      "Fizz\n",
      "13\n",
      "14\n",
      "FizzBuzz\n",
      "16\n",
      "17\n",
      "Fizz\n",
      "19\n",
      "Buzz\n",
      "Fizz\n",
      "22\n",
      "23\n",
      "Fizz\n",
      "Buzz\n",
      "26\n",
      "Fizz\n",
      "28\n",
      "29\n",
      "FizzBuzz\n",
      "31\n",
      "32\n",
      "Fizz\n",
      "34\n",
      "Buzz\n",
      "Fizz\n",
      "37\n",
      "38\n",
      "Fizz\n",
      "Buzz\n",
      "41\n",
      "Fizz\n",
      "43\n",
      "44\n",
      "FizzBuzz\n",
      "46\n",
      "47\n",
      "Fizz\n",
      "49\n",
      "Buzz\n",
      "Fizz\n",
      "52\n",
      "53\n",
      "Fizz\n",
      "Buzz\n",
      "56\n",
      "Fizz\n",
      "58\n",
      "59\n",
      "FizzBuzz\n",
      "61\n",
      "62\n",
      "Fizz\n",
      "64\n",
      "Buzz\n",
      "Fizz\n",
      "67\n",
      "68\n",
      "Fizz\n",
      "Buzz\n",
      "71\n",
      "Fizz\n",
      "73\n",
      "74\n",
      "FizzBuzz\n",
      "76\n",
      "77\n",
      "Fizz\n",
      "79\n",
      "Buzz\n",
      "Fizz\n",
      "82\n",
      "83\n",
      "Fizz\n",
      "Buzz\n",
      "86\n",
      "Fizz\n",
      "88\n",
      "89\n",
      "FizzBuzz\n",
      "91\n",
      "92\n",
      "Fizz\n",
      "94\n",
      "Buzz\n",
      "Fizz\n",
      "97\n",
      "98\n",
      "Fizz\n",
      "Buzz\n"
     ]
    }
   ],
   "source": [
    "for num in range(1, 101):\n",
    "    if num % 3 == 0 and num % 5 == 0:\n",
    "        print(\"FizzBuzz\")\n",
    "    elif num % 3 == 0:\n",
    "        print(\"Fizz\")\n",
    "    elif num % 5 == 0:\n",
    "        print(\"Buzz\")\n",
    "    else:\n",
    "        print(num)"
   ]
  },
  {
   "cell_type": "code",
   "execution_count": 1,
   "metadata": {},
   "outputs": [
    {
     "name": "stdout",
     "output_type": "stream",
     "text": [
      "1\n",
      "2\n",
      "Fizz\n",
      "4\n",
      "Buzz\n",
      "Fizz\n",
      "7\n",
      "8\n",
      "Fizz\n",
      "Buzz\n",
      "11\n",
      "Fizz\n",
      "13\n",
      "14\n",
      "FizzBuzz\n",
      "16\n",
      "17\n",
      "Fizz\n",
      "19\n",
      "Buzz\n",
      "Fizz\n",
      "22\n",
      "23\n",
      "Fizz\n",
      "Buzz\n",
      "26\n",
      "Fizz\n",
      "28\n",
      "29\n",
      "FizzBuzz\n",
      "31\n",
      "32\n",
      "Fizz\n",
      "34\n",
      "Buzz\n",
      "Fizz\n",
      "37\n",
      "38\n",
      "Fizz\n",
      "Buzz\n",
      "41\n",
      "Fizz\n",
      "43\n",
      "44\n",
      "FizzBuzz\n",
      "46\n",
      "47\n",
      "Fizz\n",
      "49\n",
      "Buzz\n",
      "Fizz\n",
      "52\n",
      "53\n",
      "Fizz\n",
      "Buzz\n",
      "56\n",
      "Fizz\n",
      "58\n",
      "59\n",
      "FizzBuzz\n",
      "61\n",
      "62\n",
      "Fizz\n",
      "64\n",
      "Buzz\n",
      "Fizz\n",
      "67\n",
      "68\n",
      "Fizz\n",
      "Buzz\n",
      "71\n",
      "Fizz\n",
      "73\n",
      "74\n",
      "FizzBuzz\n",
      "76\n",
      "77\n",
      "Fizz\n",
      "79\n",
      "Buzz\n",
      "Fizz\n",
      "82\n",
      "83\n",
      "Fizz\n",
      "Buzz\n",
      "86\n",
      "Fizz\n",
      "88\n",
      "89\n",
      "FizzBuzz\n",
      "91\n",
      "92\n",
      "Fizz\n",
      "94\n",
      "Buzz\n",
      "Fizz\n",
      "97\n",
      "98\n",
      "Fizz\n",
      "Buzz\n"
     ]
    }
   ],
   "source": [
    "#using while loop\n",
    "num = 1\n",
    "while num <= 100:\n",
    "    if num % 3 == 0 and num % 5 == 0:\n",
    "        print(\"FizzBuzz\")\n",
    "    elif num % 3 == 0:\n",
    "        print(\"Fizz\")\n",
    "    elif num % 5 == 0:\n",
    "        print(\"Buzz\")\n",
    "    else:\n",
    "        print(num)\n",
    "    num = num + 1\n",
    "    "
   ]
  },
  {
   "cell_type": "code",
   "execution_count": 4,
   "metadata": {},
   "outputs": [
    {
     "name": "stdout",
     "output_type": "stream",
     "text": [
      "A\n",
      "Ab\n",
      "Abc\n",
      "Abcd\n",
      "AbcdE\n",
      "AbcdEf\n",
      "AbcdEfg\n",
      "AbcdEfgh\n",
      "AbcdEfghI\n",
      "AbcdEfghIj\n",
      "AbcdEfghIjk\n",
      "AbcdEfghIjkl\n",
      "AbcdEfghIjklm\n",
      "AbcdEfghIjklmn\n",
      "AbcdEfghIjklmnO\n",
      "AbcdEfghIjklmnOp\n",
      "AbcdEfghIjklmnOpq\n",
      "AbcdEfghIjklmnOpqr\n",
      "AbcdEfghIjklmnOpqrs\n",
      "AbcdEfghIjklmnOpqrst\n",
      "AbcdEfghIjklmnOpqrstU\n",
      "AbcdEfghIjklmnOpqrstUv\n",
      "AbcdEfghIjklmnOpqrstUvw\n",
      "AbcdEfghIjklmnOpqrstUvwx\n",
      "AbcdEfghIjklmnOpqrstUvwxy\n",
      "AbcdEfghIjklmnOpqrstUvwxyz\n"
     ]
    }
   ],
   "source": [
    "# This is the word for which you should be replacing the vowels\n",
    "alphabet = 'abcdefghijklmnopqrstuvwxyz'\n",
    "\n",
    "# create a variable to hold the new set of letters\n",
    "alphabet_new = ''\n",
    "\n",
    "# for each letter in the word provided\n",
    "for letter in alphabet:\n",
    "    #  if the letter is an `a` then add a captial `A` to the new set of letters\n",
    "    if letter == 'a':\n",
    "        alphabet_new+= 'A'   \n",
    "    #  otherwise if the letter is an `e` then add a capital `E` to the new set of letters\n",
    "    elif letter == 'e':\n",
    "        alphabet_new+= 'E'\n",
    "    #  otherwise if the letter is an `i` then add a capital `I` to the new set of letters\n",
    "    elif letter == 'i':\n",
    "        alphabet_new+= 'I'\n",
    "    #  otherwise if the letter is an `o` then add a capital `O` to the new set of letters\n",
    "    elif letter == 'o':\n",
    "        alphabet_new+= 'O'\n",
    "    #  otherwise if the letter is an `u` then add a capital `U` to the new set of letters\n",
    "    elif letter == 'u':\n",
    "        alphabet_new+= 'U'\n",
    "    #  otherwise add the current letter to the new set of letters\n",
    "    else:\n",
    "        alphabet_new+= letter\n",
    "       \n",
    "# print the new string\n",
    "    print(alphabet_new)\n"
   ]
  },
  {
   "cell_type": "code",
   "execution_count": null,
   "metadata": {},
   "outputs": [],
   "source": []
  }
 ],
 "metadata": {
  "kernelspec": {
   "display_name": "Python 3 (ipykernel)",
   "language": "python",
   "name": "python3"
  },
  "language_info": {
   "codemirror_mode": {
    "name": "ipython",
    "version": 3
   },
   "file_extension": ".py",
   "mimetype": "text/x-python",
   "name": "python",
   "nbconvert_exporter": "python",
   "pygments_lexer": "ipython3",
   "version": "3.11.5"
  },
  "vscode": {
   "interpreter": {
    "hash": "d4d1e4263499bec80672ea0156c357c1ee493ec2b1c70f0acce89fc37c4a6abe"
   }
  }
 },
 "nbformat": 4,
 "nbformat_minor": 4
}
