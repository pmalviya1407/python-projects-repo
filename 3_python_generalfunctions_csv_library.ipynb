{
 "cells": [
  {
   "cell_type": "markdown",
   "metadata": {},
   "source": [
    "<div style=\"background-color: #9D2235; color: white; padding: 10px; \">\n",
    "    \n",
    " ## Python Functions and Python CSV Library\n",
    "    \n",
    "</div>"
   ]
  },
  {
   "cell_type": "markdown",
   "metadata": {},
   "source": [
    "<div style=\"background-color: #9DC9D5; padding: 10px;\">\n",
    "Python Functions - 2 types (Pre-defined and User-defined)\n",
    "</div>"
   ]
  },
  {
   "cell_type": "markdown",
   "metadata": {},
   "source": [
    "<div style=\"background-color: #9DC9D5; padding: 10px;\">\n",
    "    \n",
    "<pre>\n",
    "Built-in Functions (Pre-defined functions)\n",
    "These are pre-defined functions provided by Python as part of its standard library.\n",
    "They are readily available and do not require any additional definitions.\n",
    "Examples: print(), input(), len(), type(), float(), int(), max(), min(), etc.\n",
    "</pre>\n",
    " \n",
    "</div>"
   ]
  },
  {
   "cell_type": "markdown",
   "metadata": {},
   "source": [
    "<div style=\"background-color: #9DC9D5; padding: 10px;\">\n",
    "    Example of Built-in Functions\n",
    "</div>"
   ]
  },
  {
   "cell_type": "code",
   "execution_count": 1,
   "metadata": {},
   "outputs": [
    {
     "name": "stdout",
     "output_type": "stream",
     "text": [
      "w\n"
     ]
    }
   ],
   "source": [
    "#Here max is a function. A function is some stored code that we use. A function takes some input and produces an output.\n",
    "big = max('Hello world')\n",
    "print(big)"
   ]
  },
  {
   "cell_type": "code",
   "execution_count": 2,
   "metadata": {},
   "outputs": [
    {
     "name": "stdout",
     "output_type": "stream",
     "text": [
      " \n"
     ]
    }
   ],
   "source": [
    "tiny = min('Hello world')\n",
    "print(tiny)"
   ]
  },
  {
   "cell_type": "markdown",
   "metadata": {},
   "source": [
    "<div style=\"background-color: #9DC9D5; padding: 10px;\">\n",
    "    \n",
    "<pre>\n",
    "User-defined functions\n",
    "In Python, a function is some reusable code that takes arguments(s) as input, does some computation, and then returns a result or results\n",
    "We treat function names as “new” reserved words (i.e., we avoid them as variable names)\n",
    "We define a function using the def reserved word\n",
    "We call/invoke the function by using the function name, parentheses, and arguments in an expression \n",
    "</pre>\n",
    " \n",
    "</div>"
   ]
  },
  {
   "cell_type": "markdown",
   "metadata": {},
   "source": [
    "<div style=\"background-color: #9DC9D5; padding: 10px;\">\n",
    "    Example of User-defined Functions\n",
    "</div>"
   ]
  },
  {
   "cell_type": "code",
   "execution_count": 3,
   "metadata": {},
   "outputs": [
    {
     "name": "stdout",
     "output_type": "stream",
     "text": [
      "Hello\n",
      "World\n",
      "zoo\n",
      "Hello\n",
      "World\n"
     ]
    }
   ],
   "source": [
    "#User defined functions\n",
    "def thing():\n",
    "    print('Hello')\n",
    "    print('World')\n",
    "\n",
    "thing()\n",
    "print('zoo')\n",
    "thing()"
   ]
  },
  {
   "cell_type": "code",
   "execution_count": 4,
   "metadata": {},
   "outputs": [
    {
     "name": "stdout",
     "output_type": "stream",
     "text": [
      "Hello\n",
      "Yo\n",
      "I'm a lumberjack, and I'm okay.\n",
      "I sleep all night and I work all day.\n",
      "7\n"
     ]
    }
   ],
   "source": [
    "x = 5\n",
    "print('Hello')\n",
    "\n",
    "def print_lyrics(): \n",
    "   print(\"I'm a lumberjack, and I'm okay.\")\n",
    "   print('I sleep all night and I work all day.')\n",
    "\n",
    "print('Yo')\n",
    "print_lyrics()\n",
    "x = x + 2\n",
    "print(x)"
   ]
  },
  {
   "cell_type": "markdown",
   "metadata": {},
   "source": [
    "<div style=\"background-color: #9DC9D5; padding: 10px;\">\n",
    "    \n",
    "<pre>\n",
    "Arguments\n",
    "An argument is a value we pass into the function as its input when we call the function\n",
    "We use arguments so we can direct the function to do different kinds of work when we call it at different times\n",
    "We put the arguments in parentheses after the name of the function\n",
    "Ex - max('Hello World') - Here 'Hello World' is an argument \n",
    "</pre>\n",
    " \n",
    "</div>"
   ]
  },
  {
   "cell_type": "markdown",
   "metadata": {},
   "source": [
    "<div style=\"background-color: #9DC9D5; padding: 10px;\">\n",
    "    \n",
    "<pre>\n",
    "Parameter\n",
    "A parameter is a variable which we use in the function definition.  It is a “handle” that allows the code in the \n",
    "function to access the arguments for a particular function invocation.\n",
    "Ex - def greet(lang): \"In this example lang is the parameter\" \n",
    "</pre>\n",
    " \n",
    "</div>"
   ]
  },
  {
   "cell_type": "code",
   "execution_count": 5,
   "metadata": {},
   "outputs": [
    {
     "name": "stdout",
     "output_type": "stream",
     "text": [
      "hola\n",
      "bonjour\n",
      "hello\n"
     ]
    }
   ],
   "source": [
    "def greet(lang):\n",
    "    if lang == 'es':\n",
    "        print('hola')\n",
    "    elif lang == 'fr':\n",
    "        print('bonjour')\n",
    "    else:\n",
    "        print('hello')\n",
    "greet('es')\n",
    "greet('fr')\n",
    "greet('en')"
   ]
  },
  {
   "cell_type": "markdown",
   "metadata": {},
   "source": [
    "<div style=\"background-color: #9DC9D5; padding: 10px;\">\n",
    "\n",
    "    \n",
    "<pre>\n",
    "Return values\n",
    "Often a function will take its arguments, do some computation, and return a value to be used as the value of the function call in the calling expression.  The return keyword is used for this.\n",
    "A “fruitful” function is one that produces a result (or return value)\n",
    "The return statement ends the function execution and “sends back” the result of the function\n",
    "</pre>\n",
    " \n",
    "</div>"
   ]
  },
  {
   "cell_type": "code",
   "execution_count": 6,
   "metadata": {},
   "outputs": [
    {
     "name": "stdout",
     "output_type": "stream",
     "text": [
      "Hello Poo\n",
      "Hello Sri\n"
     ]
    }
   ],
   "source": [
    "def greet():\n",
    "    return 'Hello'\n",
    "\n",
    "print(greet(), \"Poo\")\n",
    "print(greet(), \"Sri\")"
   ]
  },
  {
   "cell_type": "code",
   "execution_count": 7,
   "metadata": {},
   "outputs": [
    {
     "name": "stdout",
     "output_type": "stream",
     "text": [
      "hello Poo\n",
      "bonjour Sri\n"
     ]
    }
   ],
   "source": [
    "def greet(lang):\n",
    "    if lang == 'es':\n",
    "        return 'hola'\n",
    "    elif lang == 'fr':\n",
    "        return 'bonjour'\n",
    "    else:\n",
    "        return 'hello'\n",
    "    \n",
    "print(greet('en'),\"Poo\")\n",
    "print(greet('fr'),\"Sri\")"
   ]
  },
  {
   "cell_type": "markdown",
   "metadata": {},
   "source": [
    "<div style=\"background-color: #9DC9D5; padding: 10px;\">\n",
    "    \n",
    "<pre>\n",
    "Multiple parameters/Arguments\n",
    "We can define more than one parameter in the function definition\n",
    "We simply add more arguments when we call the function\n",
    "We match the number and order of arguments and parameters\n",
    "</pre>\n",
    " \n",
    "</div>"
   ]
  },
  {
   "cell_type": "code",
   "execution_count": 8,
   "metadata": {},
   "outputs": [
    {
     "name": "stdout",
     "output_type": "stream",
     "text": [
      "8\n"
     ]
    }
   ],
   "source": [
    "def addtwo(a,b):\n",
    "    added = a + b\n",
    "    return added\n",
    "\n",
    "x = addtwo(5,3)\n",
    "print(x)"
   ]
  },
  {
   "cell_type": "markdown",
   "metadata": {},
   "source": [
    "<div style=\"background-color: #9DC9D5; padding: 10px;\">\n",
    "    \n",
    "<pre>\n",
    "Void functions (non-fruitful functions)\n",
    "Functions that do not return a value, we call it as void functions.\n",
    "Functions that return a value, we call it as fruitful functions.\n",
    "</pre>\n",
    " \n",
    "</div>"
   ]
  },
  {
   "cell_type": "code",
   "execution_count": 9,
   "metadata": {},
   "outputs": [
    {
     "data": {
      "text/plain": [
       "(100, 10)"
      ]
     },
     "execution_count": 9,
     "metadata": {},
     "output_type": "execute_result"
    }
   ],
   "source": [
    "#Find both the minimum and maximum student scores from a list\n",
    "\n",
    "def min_max_scores(score):\n",
    "    if len(score) == 0:\n",
    "        return None, None\n",
    "    else:\n",
    "        return max(score), min(score)\n",
    "min_max_scores([30, 50, 40, 10, 20, 60, 100, 99])\n",
    "    "
   ]
  },
  {
   "cell_type": "code",
   "execution_count": 10,
   "metadata": {},
   "outputs": [
    {
     "name": "stdout",
     "output_type": "stream",
     "text": [
      "Average score: 94.0\n",
      "Average score: 90.7\n",
      "Average score: 0\n"
     ]
    }
   ],
   "source": [
    "def calculate_average_score(scores):\n",
    "    \n",
    "    # Step 1: you may need to check that scores were provided so you do not get division by zero error\n",
    "    if len(scores) == 0:\n",
    "        return 0 # Return 0 if the list is empty to avoid division by zero\n",
    "    \n",
    "    # Step 2: if scores not zero then you will want to total the score, then calculate the average, and return the average\n",
    "    else: \n",
    "        total_score = sum(scores)\n",
    "    \n",
    "    # Step 3: if scores not zero then you will want to total the score, then calculate the average, and return the average\n",
    "    average_score = total_score / len(scores)\n",
    "    \n",
    "    # Step 4: if scores not zero then you will want to total the score, then calculate the average, and return the average\n",
    "    return average_score\n",
    "\n",
    "# Test case 1\n",
    "student_scores = [88, 100, 98, 90, 94]\n",
    "average = calculate_average_score(student_scores) #invoke/call the function\n",
    "print(f\"Average score: {average}\")\n",
    "\n",
    "# Test case 2\n",
    "student_scores = [88, 100, 98, 90, 94, 70, 95, 78, 100, 94]\n",
    "average = calculate_average_score(student_scores) #invoke/call the function\n",
    "print(f\"Average score: {average}\")\n",
    "\n",
    "# Test case 3\n",
    "student_scores = []\n",
    "average = calculate_average_score(student_scores) #invoke/call the function\n",
    "print(f\"Average score: {average}\")"
   ]
  },
  {
   "cell_type": "markdown",
   "metadata": {},
   "source": [
    "<div style=\"background-color: #9DC9D5; padding: 10px;\">\n",
    "dir() function\n",
    "It lists all the capabilities of a class\n",
    "</div>"
   ]
  },
  {
   "cell_type": "code",
   "execution_count": 11,
   "metadata": {},
   "outputs": [
    {
     "name": "stdout",
     "output_type": "stream",
     "text": [
      "['ArrowDtype', 'BooleanDtype', 'Categorical', 'CategoricalDtype', 'CategoricalIndex', 'DataFrame', 'DateOffset', 'DatetimeIndex', 'DatetimeTZDtype', 'ExcelFile', 'ExcelWriter', 'Flags', 'Float32Dtype', 'Float64Dtype', 'Grouper', 'HDFStore', 'Index', 'IndexSlice', 'Int16Dtype', 'Int32Dtype', 'Int64Dtype', 'Int8Dtype', 'Interval', 'IntervalDtype', 'IntervalIndex', 'MultiIndex', 'NA', 'NaT', 'NamedAgg', 'Period', 'PeriodDtype', 'PeriodIndex', 'RangeIndex', 'Series', 'SparseDtype', 'StringDtype', 'Timedelta', 'TimedeltaIndex', 'Timestamp', 'UInt16Dtype', 'UInt32Dtype', 'UInt64Dtype', 'UInt8Dtype', '__all__', '__builtins__', '__cached__', '__doc__', '__docformat__', '__file__', '__git_version__', '__loader__', '__name__', '__package__', '__path__', '__spec__', '__version__', '_config', '_is_numpy_dev', '_libs', '_testing', '_typing', '_version', 'annotations', 'api', 'array', 'arrays', 'bdate_range', 'compat', 'concat', 'core', 'crosstab', 'cut', 'date_range', 'describe_option', 'errors', 'eval', 'factorize', 'from_dummies', 'get_dummies', 'get_option', 'infer_freq', 'interval_range', 'io', 'isna', 'isnull', 'json_normalize', 'lreshape', 'melt', 'merge', 'merge_asof', 'merge_ordered', 'notna', 'notnull', 'offsets', 'option_context', 'options', 'pandas', 'period_range', 'pivot', 'pivot_table', 'plotting', 'qcut', 'read_clipboard', 'read_csv', 'read_excel', 'read_feather', 'read_fwf', 'read_gbq', 'read_hdf', 'read_html', 'read_json', 'read_orc', 'read_parquet', 'read_pickle', 'read_sas', 'read_spss', 'read_sql', 'read_sql_query', 'read_sql_table', 'read_stata', 'read_table', 'read_xml', 'reset_option', 'set_eng_float_format', 'set_option', 'show_versions', 'test', 'testing', 'timedelta_range', 'to_datetime', 'to_numeric', 'to_pickle', 'to_timedelta', 'tseries', 'unique', 'util', 'value_counts', 'wide_to_long']\n"
     ]
    }
   ],
   "source": [
    "import pandas as ps #use for working with data wrangling\n",
    "\n",
    "# List all methods and attributes of the numpy module\n",
    "dir(ps) \n",
    "print(dir(ps)) #To print across a line"
   ]
  },
  {
   "cell_type": "markdown",
   "metadata": {},
   "source": [
    "<div style=\"background-color: #9DC9D5; padding: 10px;\">\n",
    "<h2>CSV (Comma-separated-values)</h2>\n",
    "<pre>\n",
    "Used to store tabular data and which is a text file\n",
    "Rows representing records.\n",
    "Columns representing fields.\n",
    "Very commonly used for data exchange between applications and data storage.\n",
    "</pre>\n",
    "</div>"
   ]
  },
  {
   "cell_type": "code",
   "execution_count": 12,
   "metadata": {},
   "outputs": [
    {
     "name": "stdout",
     "output_type": "stream",
     "text": [
      "['__add__', '__class__', '__contains__', '__delattr__', '__dir__', '__doc__', '__eq__', '__format__', '__ge__', '__getattribute__', '__getitem__', '__getnewargs__', '__getstate__', '__gt__', '__hash__', '__init__', '__init_subclass__', '__iter__', '__le__', '__len__', '__lt__', '__mod__', '__mul__', '__ne__', '__new__', '__reduce__', '__reduce_ex__', '__repr__', '__rmod__', '__rmul__', '__setattr__', '__sizeof__', '__str__', '__subclasshook__', 'capitalize', 'casefold', 'center', 'count', 'encode', 'endswith', 'expandtabs', 'find', 'format', 'format_map', 'index', 'isalnum', 'isalpha', 'isascii', 'isdecimal', 'isdigit', 'isidentifier', 'islower', 'isnumeric', 'isprintable', 'isspace', 'istitle', 'isupper', 'join', 'ljust', 'lower', 'lstrip', 'maketrans', 'partition', 'removeprefix', 'removesuffix', 'replace', 'rfind', 'rindex', 'rjust', 'rpartition', 'rsplit', 'rstrip', 'split', 'splitlines', 'startswith', 'strip', 'swapcase', 'title', 'translate', 'upper', 'zfill']\n"
     ]
    }
   ],
   "source": [
    "#Explore python CSV library\n",
    "print(dir('csv'))"
   ]
  },
  {
   "cell_type": "markdown",
   "metadata": {},
   "source": [
    "<div style=\"background-color: #9DC9D5; padding: 10px;\">\n",
    "<h2>csv.reader()</h2>\n",
    "<pre>\n",
    "It is a class in the csv library\n",
    "Provides a simple way to read and parse CSV data\n",
    "It takes a file object as input and returns a CSV reader object\n",
    "It treats the first row as headers (column names), and subsequent rows as data\n",
    "We use a LOOP to iterate through the data\n",
    "</pre>\n",
    "</div>"
   ]
  },
  {
   "cell_type": "markdown",
   "metadata": {},
   "source": [
    "<div style=\"background-color: #9DC9D5; padding: 10px;\">\n",
    "Example for loading data using csv.reader()\n",
    "</div>"
   ]
  },
  {
   "cell_type": "code",
   "execution_count": 13,
   "metadata": {},
   "outputs": [
    {
     "name": "stdout",
     "output_type": "stream",
     "text": [
      "[['ï»¿Person_Id', 'Person_Age', 'Diagnosis_Code', 'Diagnosis_Description', 'Diagnosis_Group', 'Provider_Specialty', 'Place_of_Service_Description', 'Service_Date', 'Procedure_Code', 'Procedure_Description', 'Procedure_Group', 'Procedure_SubGroup', 'Procedure_SubGroup_Family', 'Cost', 'Units'], ['58985', '53', 'M1712', 'Unilateral primary osteoarthritis, left knee', 'Osteoarthritis', 'Physical Therapist', 'Office', '1/6/2022', '97140', 'Manual therapy 1/> regions', 'Treatment', 'Physical, occupational, and speech therapy', 'PT Treatment', '54.46', '2'], ['2417', '53', 'M1711', 'Unilateral primary osteoarthritis, right knee', 'Osteoarthritis', 'Radiology', 'Office', '10/1/2022', '73562', 'X-ray exam of knee 3', 'Imaging', 'Standard X-ray', 'X-ray - Lower Extremity', '100', '1'], ['16028', '47', 'M1990', 'Unspecified osteoarthritis, unspecified site', 'Osteoarthritis', 'Psychologist', 'Office', '6/5/2022', '99213', 'Office o/p est low 20-29 min', 'E & M', 'Office/outpatient services', 'Office E&M - Established', '57.7', '1'], ['52739', '61', 'M1712', 'Unilateral primary osteoarthritis, left knee', 'Osteoarthritis', 'Radiology', 'Outpatient Hospital', '1/28/2022', '73562', 'X-ray exam of knee 3', 'Imaging', 'Standard X-ray', 'X-ray - Lower Extremity', '13.21', '1']]\n"
     ]
    }
   ],
   "source": [
    "#We can use the csv.reader() to load the data into a list\n",
    "import csv\n",
    "\n",
    "csv_data = []\n",
    "# Open the CSV file\n",
    "with open('Files/Osteoarthritis_Claims.csv', mode='r') as file:\n",
    "    # Create a CSV reader object\n",
    "    csv_reader = csv.reader(file)\n",
    "\n",
    "    # Loop through the CSV file\n",
    "    for row in csv_reader:\n",
    "        csv_data.append(row)\n",
    "        \n",
    "print(csv_data[:5])"
   ]
  },
  {
   "cell_type": "code",
   "execution_count": 14,
   "metadata": {},
   "outputs": [
    {
     "name": "stdout",
     "output_type": "stream",
     "text": [
      "  ï»¿Person_Id Person_Age Diagnosis_Code  \\\n",
      "0        58985         53          M1712   \n",
      "1         2417         53          M1711   \n",
      "2        16028         47          M1990   \n",
      "3        52739         61          M1712   \n",
      "4        28979         34          M1712   \n",
      "\n",
      "                           Diagnosis_Description Diagnosis_Group  \\\n",
      "0   Unilateral primary osteoarthritis, left knee  Osteoarthritis   \n",
      "1  Unilateral primary osteoarthritis, right knee  Osteoarthritis   \n",
      "2   Unspecified osteoarthritis, unspecified site  Osteoarthritis   \n",
      "3   Unilateral primary osteoarthritis, left knee  Osteoarthritis   \n",
      "4   Unilateral primary osteoarthritis, left knee  Osteoarthritis   \n",
      "\n",
      "   Provider_Specialty Place_of_Service_Description Service_Date  \\\n",
      "0  Physical Therapist                       Office     1/6/2022   \n",
      "1           Radiology                       Office    10/1/2022   \n",
      "2        Psychologist                       Office     6/5/2022   \n",
      "3           Radiology          Outpatient Hospital    1/28/2022   \n",
      "4      Anesthesiology                       Office    7/20/2022   \n",
      "\n",
      "  Procedure_Code         Procedure_Description Procedure_Group  \\\n",
      "0          97140    Manual therapy 1/> regions       Treatment   \n",
      "1          73562          X-ray exam of knee 3         Imaging   \n",
      "2          99213  Office o/p est low 20-29 min           E & M   \n",
      "3          73562          X-ray exam of knee 3         Imaging   \n",
      "4          20610  Drain/inj joint/bursa w/o us       Procedure   \n",
      "\n",
      "                           Procedure_SubGroup Procedure_SubGroup_Family  \\\n",
      "0  Physical, occupational, and speech therapy              PT Treatment   \n",
      "1                              Standard X-ray   X-ray - Lower Extremity   \n",
      "2                  Office/outpatient services  Office E&M - Established   \n",
      "3                              Standard X-ray   X-ray - Lower Extremity   \n",
      "4                             Musculoskeletal           Joint Injection   \n",
      "\n",
      "     Cost Units  \n",
      "0   54.46     2  \n",
      "1     100     1  \n",
      "2    57.7     1  \n",
      "3   13.21     1  \n",
      "4  106.07     1  \n"
     ]
    }
   ],
   "source": [
    "#We can use the pandas to format it properly\n",
    "import csv\n",
    "import pandas as pd\n",
    "\n",
    "csv_data = []\n",
    "\n",
    "# Open the CSV file\n",
    "with open('Files/Osteoarthritis_Claims.csv', mode='r') as file:\n",
    "    # Create a CSV reader object\n",
    "    csv_reader = csv.reader(file)\n",
    "\n",
    "    for row in csv_reader:\n",
    "        csv_data.append(row)\n",
    "        \n",
    "df = pd.DataFrame(csv_data[1:], columns = csv_data[0])\n",
    "        \n",
    "print(df.head())"
   ]
  },
  {
   "cell_type": "markdown",
   "metadata": {},
   "source": [
    "<div style=\"background-color: #9DC9D5; padding: 10px;\">\n",
    "Calculate the total and average cost for the above data\n",
    "</div>"
   ]
  },
  {
   "cell_type": "code",
   "execution_count": 15,
   "metadata": {},
   "outputs": [
    {
     "name": "stdout",
     "output_type": "stream",
     "text": [
      "Total Cost: 4988673.239999913\n",
      "Average Cost: 339.71217160367127\n"
     ]
    }
   ],
   "source": [
    "# Extract the \"Cost\" column (assuming it's the 14th column, zero-based index)\n",
    "cost_column = [float(row[13]) for row in csv_data[1:]]\n",
    "\n",
    "# Calculate the sum of the \"Cost\" column\n",
    "total_cost = sum(cost_column)\n",
    "\n",
    "# Calculate the average of the \"Cost\" column\n",
    "average_cost = total_cost / len(cost_column)\n",
    "\n",
    "print(\"Total Cost:\", total_cost)\n",
    "print(\"Average Cost:\", average_cost)"
   ]
  },
  {
   "cell_type": "markdown",
   "metadata": {},
   "source": [
    "<div style=\"background-color: #9DC9D5; padding: 10px;\">\n",
    "<h2>csv.DictReader()</h2>\n",
    "<pre>\n",
    "It is another class in the csv library\n",
    "An extension of csv.reader() and provides more convenience\n",
    "It treats the first row as headers (column names), and subsequent rows as data\n",
    "It reads each row as a dictionary (vs. a list) where the keys are column names\n",
    "We use a LOOP to iterate through the data\n",
    "</pre>\n",
    "</div>"
   ]
  },
  {
   "cell_type": "markdown",
   "metadata": {},
   "source": [
    "<div style=\"background-color: #9DC9D5; padding: 10px;\">\n",
    "Example for loading data using csv.DictReader()\n",
    "</div>"
   ]
  },
  {
   "cell_type": "code",
   "execution_count": 16,
   "metadata": {},
   "outputs": [
    {
     "name": "stdout",
     "output_type": "stream",
     "text": [
      "[{'Album_Id': '20000', 'Album': 'Literately Elated', 'Band': 'The A-Bomb Project', 'Production_Cost': '7187.19', 'Album_Sales': '32705.87'}, {'Album_Id': '20001', 'Album': 'Kindly Beautiful', 'Band': 'The A-Bomb Project', 'Production_Cost': '35678.75', 'Album_Sales': '25603.46'}, {'Album_Id': '20002', 'Album': 'Lie Nostalgically', 'Band': 'The A-Bomb Project', 'Production_Cost': '9035.03', 'Album_Sales': '20176.23'}, {'Album_Id': '20003', 'Album': 'Meadow Galaxy', 'Band': 'The A-Bomb Project', 'Production_Cost': '9758.62', 'Album_Sales': '15801.92'}, {'Album_Id': '20004', 'Album': 'Bad Exaltations', 'Band': 'The A-Bomb Project', 'Production_Cost': '13257.3', 'Album_Sales': '12037.2'}]\n"
     ]
    }
   ],
   "source": [
    "import csv\n",
    "\n",
    "# Initialize an empty list to store the dictionaries: name it data_list\n",
    "csv_data = []\n",
    "\n",
    "# Open the CSV file\n",
    "with open('Files/Albums.csv', mode = 'r') as file:\n",
    "    \n",
    "    # Create a CSV reader object\n",
    "    csv_reader = csv.DictReader(file)\n",
    "    \n",
    "    # Iterate through the data in csv_reader\n",
    "    for row in csv_reader:\n",
    "        csv_data.append(row)\n",
    "print(csv_data[:5])"
   ]
  },
  {
   "cell_type": "markdown",
   "metadata": {},
   "source": [
    "<div style=\"background-color: #9DC9D5; padding: 10px;\">\n",
    "Calculate the total and average cost for the above data\n",
    "</div>"
   ]
  },
  {
   "cell_type": "code",
   "execution_count": 17,
   "metadata": {},
   "outputs": [
    {
     "data": {
      "text/html": [
       "<div>\n",
       "<style scoped>\n",
       "    .dataframe tbody tr th:only-of-type {\n",
       "        vertical-align: middle;\n",
       "    }\n",
       "\n",
       "    .dataframe tbody tr th {\n",
       "        vertical-align: top;\n",
       "    }\n",
       "\n",
       "    .dataframe thead th {\n",
       "        text-align: right;\n",
       "    }\n",
       "</style>\n",
       "<table border=\"1\" class=\"dataframe\">\n",
       "  <thead>\n",
       "    <tr style=\"text-align: right;\">\n",
       "      <th></th>\n",
       "      <th>Calculated Values</th>\n",
       "    </tr>\n",
       "    <tr>\n",
       "      <th>Metrics</th>\n",
       "      <th></th>\n",
       "    </tr>\n",
       "  </thead>\n",
       "  <tbody>\n",
       "    <tr>\n",
       "      <th>Total Production Cost</th>\n",
       "      <td>32,892,607.08</td>\n",
       "    </tr>\n",
       "    <tr>\n",
       "      <th>Total Sales</th>\n",
       "      <td>23,129,975.39</td>\n",
       "    </tr>\n",
       "    <tr>\n",
       "      <th>Average Production Cost</th>\n",
       "      <td>12,454.60</td>\n",
       "    </tr>\n",
       "    <tr>\n",
       "      <th>Average Album Sales</th>\n",
       "      <td>8,758.04</td>\n",
       "    </tr>\n",
       "    <tr>\n",
       "      <th>Difference Between Total Sales and Total Production Cost</th>\n",
       "      <td>-9,762,631.69</td>\n",
       "    </tr>\n",
       "  </tbody>\n",
       "</table>\n",
       "</div>"
      ],
      "text/plain": [
       "                                                   Calculated Values\n",
       "Metrics                                                             \n",
       "Total Production Cost                                  32,892,607.08\n",
       "Total Sales                                            23,129,975.39\n",
       "Average Production Cost                                    12,454.60\n",
       "Average Album Sales                                         8,758.04\n",
       "Difference Between Total Sales and Total Produc...     -9,762,631.69"
      ]
     },
     "execution_count": 17,
     "metadata": {},
     "output_type": "execute_result"
    }
   ],
   "source": [
    "# Initialize variables for calculations\n",
    "total_production_cost = 0.0\n",
    "total_sales = 0.0\n",
    "count = 0\n",
    "\n",
    "# Iterate through the data to calculate total production cost and total sales\n",
    "for row in csv_data:\n",
    "    total_production_cost = total_production_cost + float(row['Production_Cost']) \n",
    "    total_sales = total_sales + float(row['Album_Sales'])\n",
    "    count = count + 1\n",
    "\n",
    "# Calculate averages\n",
    "average_production_cost = total_production_cost / count\n",
    "average_sales = total_sales / count\n",
    "\n",
    "# Calculate the difference\n",
    "difference = total_sales - total_production_cost\n",
    "\n",
    "# Print the results\n",
    "output_data = {\n",
    "    \"Total Production Cost\": total_production_cost,\n",
    "    \"Total Sales\": total_sales,\n",
    "    \"Average Production Cost\": average_production_cost,\n",
    "    \"Average Album Sales\": average_sales,\n",
    "    \"Difference Between Total Sales and Total Production Cost\": difference\n",
    "}\n",
    "\n",
    "# Transpose the dataframe\n",
    "albums_calculated_data = pd.DataFrame([output_data]).T\n",
    "\n",
    "# Add custom column name\n",
    "albums_calculated_data.columns = ['Calculated Values']\n",
    "\n",
    "# Add custom index name\n",
    "albums_calculated_data.index.name = 'Metrics'\n",
    "\n",
    "# Format the numeric values without scientific notation and set to two decimal places\n",
    "albums_calculated_data['Calculated Values'] = albums_calculated_data['Calculated Values'].apply(lambda x: f\"{x:,.2f}\")\n",
    "\n",
    "# Save the DataFrame to a CSV file\n",
    "albums_calculated_data.to_csv('Files/albums_calculated_data.csv')\n",
    "\n",
    "albums_calculated_data\n"
   ]
  },
  {
   "cell_type": "code",
   "execution_count": 20,
   "metadata": {},
   "outputs": [
    {
     "name": "stdout",
     "output_type": "stream",
     "text": [
      "Metrics,Calculated Values\n",
      "Total Production Cost,\"32,892,607.08\"\n",
      "Total Sales,\"23,129,975.39\"\n",
      "Average Production Cost,\"12,454.60\"\n",
      "Average Album Sales,\"8,758.04\"\n",
      "Difference Between Total Sales and Total Production Cost,\"-9,762,631.69\"\n",
      "\n"
     ]
    }
   ],
   "source": [
    "#Open the file and view the data\n",
    "with open(\"Files/albums_calculated_data.csv\", mode='r') as file:\n",
    "    print(file.read())"
   ]
  },
  {
   "cell_type": "markdown",
   "metadata": {},
   "source": [
    "<div style=\"background-color: #9DC9D5; padding: 10px;\">\n",
    "<h2>csv.Sniffer()</h2>\n",
    "<pre>\n",
    "The Sniffer class is used to deduce the format of a CSV file.\n",
    "sniff(sample): Detects the dialect from a sample of the CSV file.\n",
    "CSV files can vary in formatting, such as the type of delimiter (e.g., comma, tab), quote character, line terminator, etc. \n",
    "delimiter: Character that separates fields (e.g., , for CSV, \\t for TSV).\n",
    "</pre>\n",
    "</div>"
   ]
  },
  {
   "cell_type": "code",
   "execution_count": 21,
   "metadata": {},
   "outputs": [
    {
     "name": "stdout",
     "output_type": "stream",
     "text": [
      "Delimiter: ,\n"
     ]
    }
   ],
   "source": [
    "import csv\n",
    "\n",
    "# Detect the dialect of a CSV file\n",
    "with open('Files/Albums.csv', mode='r', newline='') as file:\n",
    "    # Read a small portion of the file\n",
    "    sample = file.read(1024)  \n",
    "    #Initialize the sniffer variable\n",
    "    sniffer = csv.Sniffer()\n",
    "    # Detect the dialect\n",
    "    dialect = sniffer.sniff(sample)  \n",
    "    \n",
    "   \n",
    "    print(f\"Delimiter: {dialect.delimiter}\")\n",
    "  "
   ]
  },
  {
   "cell_type": "code",
   "execution_count": null,
   "metadata": {},
   "outputs": [],
   "source": []
  }
 ],
 "metadata": {
  "kernelspec": {
   "display_name": "Python 3 (ipykernel)",
   "language": "python",
   "name": "python3"
  },
  "language_info": {
   "codemirror_mode": {
    "name": "ipython",
    "version": 3
   },
   "file_extension": ".py",
   "mimetype": "text/x-python",
   "name": "python",
   "nbconvert_exporter": "python",
   "pygments_lexer": "ipython3",
   "version": "3.11.5"
  },
  "vscode": {
   "interpreter": {
    "hash": "d4d1e4263499bec80672ea0156c357c1ee493ec2b1c70f0acce89fc37c4a6abe"
   }
  }
 },
 "nbformat": 4,
 "nbformat_minor": 4
}
